{
 "cells": [
  {
   "cell_type": "code",
   "execution_count": 9,
   "metadata": {},
   "outputs": [
    {
     "data": {
      "text/html": [
       "<div id=\"my_id_menu_nb\">run previous cell, wait for 2 seconds</div>\n",
       "<script>\n",
       "function repeat_indent_string(n){\n",
       "    var a = \"\" ;\n",
       "    for ( ; n > 0 ; --n)\n",
       "        a += \"    \";\n",
       "    return a;\n",
       "}\n",
       "// look up into all sections and builds an automated menu //\n",
       "var update_menu_string = function(begin, lfirst, llast, sformat, send, keep_item, begin_format, end_format) {\n",
       "    var anchors = document.getElementsByClassName(\"section\");\n",
       "    if (anchors.length == 0) {\n",
       "        anchors = document.getElementsByClassName(\"text_cell_render rendered_html\");\n",
       "    }\n",
       "    var i,t;\n",
       "    var text_menu = begin;\n",
       "    var text_memo = \"<pre>\\nlength:\" + anchors.length + \"\\n\";\n",
       "    var ind = \"\";\n",
       "    var memo_level = 1;\n",
       "    var href;\n",
       "    var tags = [];\n",
       "    var main_item = 0;\n",
       "    var format_open = 0;\n",
       "    for (i = 0; i <= llast; i++)\n",
       "        tags.push(\"h\" + i);\n",
       "\n",
       "    for (i = 0; i < anchors.length; i++) {\n",
       "        text_memo += \"**\" + anchors[i].id + \"--\\n\";\n",
       "\n",
       "        var child = null;\n",
       "        for(t = 0; t < tags.length; t++) {\n",
       "            var r = anchors[i].getElementsByTagName(tags[t]);\n",
       "            if (r.length > 0) {\n",
       "child = r[0];\n",
       "break;\n",
       "            }\n",
       "        }\n",
       "        if (child == null) {\n",
       "            text_memo += \"null\\n\";\n",
       "            continue;\n",
       "        }\n",
       "        if (anchors[i].hasAttribute(\"id\")) {\n",
       "            // when converted in RST\n",
       "            href = anchors[i].id;\n",
       "            text_memo += \"#1-\" + href;\n",
       "            // passer à child suivant (le chercher)\n",
       "        }\n",
       "        else if (child.hasAttribute(\"id\")) {\n",
       "            // in a notebook\n",
       "            href = child.id;\n",
       "            text_memo += \"#2-\" + href;\n",
       "        }\n",
       "        else {\n",
       "            text_memo += \"#3-\" + \"*\" + \"\\n\";\n",
       "            continue;\n",
       "        }\n",
       "        var title = child.textContent;\n",
       "        var level = parseInt(child.tagName.substring(1,2));\n",
       "\n",
       "        text_memo += \"--\" + level + \"?\" + lfirst + \"--\" + title + \"\\n\";\n",
       "\n",
       "        if ((level < lfirst) || (level > llast)) {\n",
       "            continue ;\n",
       "        }\n",
       "        if (title.endsWith('¶')) {\n",
       "            title = title.substring(0,title.length-1).replace(\"<\", \"&lt;\")\n",
       "         .replace(\">\", \"&gt;\").replace(\"&\", \"&amp;\");\n",
       "        }\n",
       "        if (title.length == 0) {\n",
       "            continue;\n",
       "        }\n",
       "\n",
       "        while (level < memo_level) {\n",
       "            text_menu += end_format + \"</ul>\\n\";\n",
       "            format_open -= 1;\n",
       "            memo_level -= 1;\n",
       "        }\n",
       "        if (level == lfirst) {\n",
       "            main_item += 1;\n",
       "        }\n",
       "        if (keep_item != -1 && main_item != keep_item + 1) {\n",
       "            // alert(main_item + \" - \" + level + \" - \" + keep_item);\n",
       "            continue;\n",
       "        }\n",
       "        while (level > memo_level) {\n",
       "            text_menu += \"<ul>\\n\";\n",
       "            memo_level += 1;\n",
       "        }\n",
       "        text_menu += repeat_indent_string(level-2);\n",
       "        text_menu += begin_format + sformat.replace(\"__HREF__\", href).replace(\"__TITLE__\", title);\n",
       "        format_open += 1;\n",
       "    }\n",
       "    while (1 < memo_level) {\n",
       "        text_menu += end_format + \"</ul>\\n\";\n",
       "        memo_level -= 1;\n",
       "        format_open -= 1;\n",
       "    }\n",
       "    text_menu += send;\n",
       "    //text_menu += \"\\n\" + text_memo;\n",
       "\n",
       "    while (format_open > 0) {\n",
       "        text_menu += end_format;\n",
       "        format_open -= 1;\n",
       "    }\n",
       "    return text_menu;\n",
       "};\n",
       "var update_menu = function() {\n",
       "    var sbegin = \"\";\n",
       "    var sformat = '<a href=\"#__HREF__\">__TITLE__</a>';\n",
       "    var send = \"\";\n",
       "    var begin_format = '<li>';\n",
       "    var end_format = '</li>';\n",
       "    var keep_item = -1;\n",
       "    var text_menu = update_menu_string(sbegin, 2, 4, sformat, send, keep_item,\n",
       "       begin_format, end_format);\n",
       "    var menu = document.getElementById(\"my_id_menu_nb\");\n",
       "    menu.innerHTML=text_menu;\n",
       "};\n",
       "window.setTimeout(update_menu,2000);\n",
       "            </script>"
      ],
      "text/plain": [
       "<IPython.core.display.HTML object>"
      ]
     },
     "execution_count": 9,
     "metadata": {},
     "output_type": "execute_result"
    }
   ],
   "source": [
    "from jyquickhelper import add_notebook_menu\n",
    "add_notebook_menu()"
   ]
  },
  {
   "cell_type": "markdown",
   "metadata": {},
   "source": [
    "# Imports"
   ]
  },
  {
   "cell_type": "code",
   "execution_count": 24,
   "metadata": {},
   "outputs": [],
   "source": [
    "import pandas as pd\n",
    "import numpy as np \n",
    "import matplotlib.pyplot as plt\n",
    "import time"
   ]
  },
  {
   "cell_type": "code",
   "execution_count": 3,
   "metadata": {},
   "outputs": [],
   "source": [
    "dataset = pd.read_csv('training-a.csv')"
   ]
  },
  {
   "cell_type": "code",
   "execution_count": 4,
   "metadata": {},
   "outputs": [],
   "source": [
    "labels = pd.read_csv('training-a/REFERENCE.csv',header=None,names=['filename','label'])['label']\n",
    "raw_data = dataset.drop(['label'],axis=1)"
   ]
  },
  {
   "cell_type": "markdown",
   "metadata": {},
   "source": [
    "## Traitement"
   ]
  },
  {
   "cell_type": "code",
   "execution_count": 7,
   "metadata": {},
   "outputs": [],
   "source": [
    "phases_list = ['S1','S2','systole','diastole']\n",
    "features_list = ['t1','t2','t12','t21']"
   ]
  },
  {
   "cell_type": "code",
   "execution_count": 42,
   "metadata": {},
   "outputs": [],
   "source": [
    "class PCG:\n",
    "    \n",
    "    def __init__(self,signal):\n",
    "        self.signal = np.asarray(signal[~np.isnan(signal)]) #on ignore les NaN \n",
    "        self.fs = 2000\n",
    "        \n",
    "    def envelogram(self):\n",
    "        E = self.signal\n",
    "        #on remplace les 0 par des petites valeurs (on doit éviter d'avoir un 0 pour calculer les log)\n",
    "        for i in range(self.signal.shape[0]):\n",
    "            if E[i]==0:\n",
    "                E[i] = E[i-1]/10\n",
    "        E = E/np.max(np.abs(E))\n",
    "        E = -1*(E**2) * np.log(E**2)\n",
    "        #on met les petites valeurs à 0 \n",
    "        s = np.std(E)\n",
    "        m = np.mean(E)\n",
    "        mask = E>np.max(E)/3\n",
    "        mask2 = E-m>s/2\n",
    "        return E*mask\n",
    "    \n",
    "    def setStart(self,envelogram):\n",
    "        #on s'assure de bien commencer sur une phase S1 ou S2\n",
    "        start = 0\n",
    "        while envelogram[start]==0:\n",
    "            start += 1\n",
    "        envelogram = envelogram [start:]\n",
    "        return envelogram, start\n",
    "    \n",
    "    def consec_count(self):\n",
    "        e = self.setStart(self.envelogram())[0]\n",
    "        start = 0\n",
    "        count_mask = []\n",
    "        while  start < len(e): \n",
    "            i = start\n",
    "            current = e[start]\n",
    "            while e[i]==current and i < len(e)-1:\n",
    "                i=i+1\n",
    "            l = int(i - start + 1)\n",
    "            count_mask = np.concatenate((count_mask,l*[l]))\n",
    "            start = i + 1\n",
    "        return count_mask\n",
    "    \n",
    "    def segment(self,count_vec,first_beat='S1',first_passive='systole'):\n",
    "        beat_mask = count_vec<=100\n",
    "        systole_mask = count_vec>100\n",
    "        segmentation = []\n",
    "        currentbeat = first_beat # etat courant du battement, soit S1 soit S2\n",
    "        currentSD = first_passive # etat courant de la phase systole ou diastole\n",
    "        i = 0\n",
    "        while i<count_vec.shape[0]:\n",
    "            while i<count_vec.shape[0] and beat_mask[i]:\n",
    "                segmentation.append(currentbeat)\n",
    "                i+=1\n",
    "            #on change la phase de battement S1 ou S2 \n",
    "            if currentbeat == 'S1':currentbeat='S2'\n",
    "            else: currentbeat= 'S1'\n",
    "            while i<count_vec.shape[0] and systole_mask[i]:\n",
    "                segmentation.append(currentSD)\n",
    "                i+=1\n",
    "            #on change la phase systole ou diastole\n",
    "            if currentSD == 'systole':currentSD='diastole'\n",
    "            else: currentSD='systole'\n",
    "        return np.array(segmentation)\n",
    "    \n",
    "    def checkSegmentation(self,segmentation):\n",
    "        systole_length = np.sum(segmentation=='systole')\n",
    "        diastole_length = np.sum(segmentation=='diastole')\n",
    "        average_systole_length = systole_length/(systole_length+diastole_length)\n",
    "        average_diastole_length = diastole_length/(systole_length+diastole_length)\n",
    "        return (average_systole_length<average_diastole_length)\n",
    "    \n",
    "    def segmentation(self):\n",
    "        count_vec = self.consec_count()\n",
    "        #on teste une première segmentation\n",
    "        seg = self.segment(count_vec)\n",
    "        if self.checkSegmentation(seg):\n",
    "            return seg\n",
    "        else: \n",
    "            return self.segment(count_vec,first_beat='S2',first_passive='diastole')\n",
    "    \n",
    "    def timeLengths(self,segmentation,phase):\n",
    "        res=[]\n",
    "        start=0\n",
    "        while start<segmentation.shape[0]:\n",
    "            i = start\n",
    "            while i<segmentation.shape[0] and segmentation[i]==phase:\n",
    "                i+=1\n",
    "            res.append(i - start)\n",
    "            start = i + 1\n",
    "        res = np.array(res)\n",
    "        return res[res!=0]\n",
    "    \n",
    "    def extractFeatures(self):\n",
    "        segmentation = self.segmentation()\n",
    "        features = {}\n",
    "        for phase,ft in zip(phases_list,features_list):\n",
    "            time_features = self.timeLengths(segmentation,phase)\n",
    "            features.update({ft:[np.mean(time_features),np.min(time_features),\n",
    "                                 np.max(time_features),np.std(time_features)]})\n",
    "        return features\n",
    "    "
   ]
  },
  {
   "cell_type": "markdown",
   "metadata": {},
   "source": [
    "# Analyse des features"
   ]
  },
  {
   "cell_type": "code",
   "execution_count": 55,
   "metadata": {},
   "outputs": [],
   "source": [
    "n_samples = 100"
   ]
  },
  {
   "cell_type": "code",
   "execution_count": 64,
   "metadata": {},
   "outputs": [],
   "source": [
    "t1,t2,t12,t21=[],[],[],[]\n",
    "for i in range(n_samples):\n",
    "    pcg = PCG(raw_data.loc[i])\n",
    "    ft = pcg.extractFeatures()\n",
    "    t1.append(ft['t1'][3])\n",
    "    t2.append(ft['t2'][3])\n",
    "    t12.append(ft['t12'][3])\n",
    "    t21.append(ft['t21'][3])"
   ]
  },
  {
   "cell_type": "code",
   "execution_count": 65,
   "metadata": {},
   "outputs": [],
   "source": [
    "good = labels[:n_samples]==1\n",
    "bad = labels[:n_samples]==-1"
   ]
  },
  {
   "cell_type": "code",
   "execution_count": 66,
   "metadata": {},
   "outputs": [],
   "source": [
    "t1 = np.asarray(t1)\n",
    "t2 = np.asarray(t2)\n",
    "t12 = np.asarray(t12)\n",
    "t21 = np.asarray(t21)"
   ]
  },
  {
   "cell_type": "code",
   "execution_count": 67,
   "metadata": {},
   "outputs": [
    {
     "data": {
      "text/plain": [
       "Text(0.5,1,'t21')"
      ]
     },
     "execution_count": 67,
     "metadata": {},
     "output_type": "execute_result"
    },
    {
     "data": {
      "image/png": "[encoded data removed]",
      "text/plain": [
       "<Figure size 1008x720 with 4 Axes>"
      ]
     },
     "metadata": {
      "needs_background": "light"
     },
     "output_type": "display_data"
    }
   ],
   "source": [
    "fig = plt.figure(figsize=(14,10))\n",
    "\n",
    "ax1 = fig.add_subplot(221)\n",
    "t = t\n",
    "ax1.hist(t1[good],density=True,color='b',label='normal',alpha=.5)\n",
    "t = t1[bad]\n",
    "ax1.hist(t1[bad],density=True,color='r',label='anormal',alpha=.5)\n",
    "ax1.set_title('t1')\n",
    "\n",
    "ax2 = fig.add_subplot(222)\n",
    "t = t2[good]\n",
    "ax2.hist(t2[good],density=True,color='b',label='normal',alpha=.5)\n",
    "t = t2[bad]\n",
    "ax2.hist(t2[bad],density=True,color='r',label='anormal',alpha=.5)\n",
    "ax2.set_title('t2')\n",
    "\n",
    "ax3 = fig.add_subplot(223)\n",
    "ax3.hist(t12[good],density=True,color='b',label='normal',alpha=.5)\n",
    "ax3.hist(t12[bad],density=True,color='r',label='anormal',alpha=.5)\n",
    "ax3.set_title('t12')\n",
    "\n",
    "ax4 = fig.add_subplot(224)\n",
    "ax4.hist(t21[good],density=True,color='b',label='normal',alpha=.5)\n",
    "ax4.hist(t21[bad],density=True,color='r',label='anormal',alpha=.5)\n",
    "ax4.set_title('t21')"
   ]
  },
  {
   "cell_type": "code",
   "execution_count": null,
   "metadata": {},
   "outputs": [],
   "source": []
  }
 ],
 "metadata": {
  "kernelspec": {
   "display_name": "Python 3",
   "language": "python",
   "name": "python3"
  },
  "language_info": {
   "codemirror_mode": {
    "name": "ipython",
    "version": 3
   },
   "file_extension": ".py",
   "mimetype": "text/x-python",
   "name": "python",
   "nbconvert_exporter": "python",
   "pygments_lexer": "ipython3",
   "version": "3.7.0"
  }
 },
 "nbformat": 4,
 "nbformat_minor": 2
}
