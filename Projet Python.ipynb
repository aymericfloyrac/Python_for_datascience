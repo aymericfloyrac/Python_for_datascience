{
 "cells": [
  {
   "cell_type": "code",
   "execution_count": 1,
   "metadata": {},
   "outputs": [
    {
     "data": {
      "text/html": [
       "<div id=\"my_id_menu_nb\">run previous cell, wait for 2 seconds</div>\n",
       "<script>\n",
       "function repeat_indent_string(n){\n",
       "    var a = \"\" ;\n",
       "    for ( ; n > 0 ; --n)\n",
       "        a += \"    \";\n",
       "    return a;\n",
       "}\n",
       "// look up into all sections and builds an automated menu //\n",
       "var update_menu_string = function(begin, lfirst, llast, sformat, send, keep_item, begin_format, end_format) {\n",
       "    var anchors = document.getElementsByClassName(\"section\");\n",
       "    if (anchors.length == 0) {\n",
       "        anchors = document.getElementsByClassName(\"text_cell_render rendered_html\");\n",
       "    }\n",
       "    var i,t;\n",
       "    var text_menu = begin;\n",
       "    var text_memo = \"<pre>\\nlength:\" + anchors.length + \"\\n\";\n",
       "    var ind = \"\";\n",
       "    var memo_level = 1;\n",
       "    var href;\n",
       "    var tags = [];\n",
       "    var main_item = 0;\n",
       "    var format_open = 0;\n",
       "    for (i = 0; i <= llast; i++)\n",
       "        tags.push(\"h\" + i);\n",
       "\n",
       "    for (i = 0; i < anchors.length; i++) {\n",
       "        text_memo += \"**\" + anchors[i].id + \"--\\n\";\n",
       "\n",
       "        var child = null;\n",
       "        for(t = 0; t < tags.length; t++) {\n",
       "            var r = anchors[i].getElementsByTagName(tags[t]);\n",
       "            if (r.length > 0) {\n",
       "child = r[0];\n",
       "break;\n",
       "            }\n",
       "        }\n",
       "        if (child == null) {\n",
       "            text_memo += \"null\\n\";\n",
       "            continue;\n",
       "        }\n",
       "        if (anchors[i].hasAttribute(\"id\")) {\n",
       "            // when converted in RST\n",
       "            href = anchors[i].id;\n",
       "            text_memo += \"#1-\" + href;\n",
       "            // passer à child suivant (le chercher)\n",
       "        }\n",
       "        else if (child.hasAttribute(\"id\")) {\n",
       "            // in a notebook\n",
       "            href = child.id;\n",
       "            text_memo += \"#2-\" + href;\n",
       "        }\n",
       "        else {\n",
       "            text_memo += \"#3-\" + \"*\" + \"\\n\";\n",
       "            continue;\n",
       "        }\n",
       "        var title = child.textContent;\n",
       "        var level = parseInt(child.tagName.substring(1,2));\n",
       "\n",
       "        text_memo += \"--\" + level + \"?\" + lfirst + \"--\" + title + \"\\n\";\n",
       "\n",
       "        if ((level < lfirst) || (level > llast)) {\n",
       "            continue ;\n",
       "        }\n",
       "        if (title.endsWith('¶')) {\n",
       "            title = title.substring(0,title.length-1).replace(\"<\", \"&lt;\")\n",
       "         .replace(\">\", \"&gt;\").replace(\"&\", \"&amp;\");\n",
       "        }\n",
       "        if (title.length == 0) {\n",
       "            continue;\n",
       "        }\n",
       "\n",
       "        while (level < memo_level) {\n",
       "            text_menu += end_format + \"</ul>\\n\";\n",
       "            format_open -= 1;\n",
       "            memo_level -= 1;\n",
       "        }\n",
       "        if (level == lfirst) {\n",
       "            main_item += 1;\n",
       "        }\n",
       "        if (keep_item != -1 && main_item != keep_item + 1) {\n",
       "            // alert(main_item + \" - \" + level + \" - \" + keep_item);\n",
       "            continue;\n",
       "        }\n",
       "        while (level > memo_level) {\n",
       "            text_menu += \"<ul>\\n\";\n",
       "            memo_level += 1;\n",
       "        }\n",
       "        text_menu += repeat_indent_string(level-2);\n",
       "        text_menu += begin_format + sformat.replace(\"__HREF__\", href).replace(\"__TITLE__\", title);\n",
       "        format_open += 1;\n",
       "    }\n",
       "    while (1 < memo_level) {\n",
       "        text_menu += end_format + \"</ul>\\n\";\n",
       "        memo_level -= 1;\n",
       "        format_open -= 1;\n",
       "    }\n",
       "    text_menu += send;\n",
       "    //text_menu += \"\\n\" + text_memo;\n",
       "\n",
       "    while (format_open > 0) {\n",
       "        text_menu += end_format;\n",
       "        format_open -= 1;\n",
       "    }\n",
       "    return text_menu;\n",
       "};\n",
       "var update_menu = function() {\n",
       "    var sbegin = \"\";\n",
       "    var sformat = '<a href=\"#__HREF__\">__TITLE__</a>';\n",
       "    var send = \"\";\n",
       "    var begin_format = '<li>';\n",
       "    var end_format = '</li>';\n",
       "    var keep_item = -1;\n",
       "    var text_menu = update_menu_string(sbegin, 2, 4, sformat, send, keep_item,\n",
       "       begin_format, end_format);\n",
       "    var menu = document.getElementById(\"my_id_menu_nb\");\n",
       "    menu.innerHTML=text_menu;\n",
       "};\n",
       "window.setTimeout(update_menu,2000);\n",
       "            </script>"
      ],
      "text/plain": [
       "<IPython.core.display.HTML object>"
      ]
     },
     "execution_count": 1,
     "metadata": {},
     "output_type": "execute_result"
    }
   ],
   "source": [
    "from jyquickhelper import add_notebook_menu\n",
    "add_notebook_menu()"
   ]
  },
  {
   "cell_type": "markdown",
   "metadata": {},
   "source": [
    "## Imports"
   ]
  },
  {
   "cell_type": "code",
   "execution_count": 2,
   "metadata": {},
   "outputs": [],
   "source": [
    "import pandas as pd\n",
    "import numpy as np \n",
    "import matplotlib.pyplot as plt\n",
    "import time\n",
    "import seaborn as sns"
   ]
  },
  {
   "cell_type": "code",
   "execution_count": 3,
   "metadata": {},
   "outputs": [],
   "source": [
    "from scipy.signal import find_peaks"
   ]
  },
  {
   "cell_type": "code",
   "execution_count": 4,
   "metadata": {},
   "outputs": [],
   "source": [
    "dataset = pd.read_csv('training-a.csv')"
   ]
  },
  {
   "cell_type": "code",
   "execution_count": 5,
   "metadata": {},
   "outputs": [],
   "source": [
    "labels = pd.read_csv('training-a/REFERENCE.csv',header=None,names=['filename','label'])['label']\n",
    "raw_data = dataset.drop(['label'],axis=1)"
   ]
  },
  {
   "cell_type": "code",
   "execution_count": 6,
   "metadata": {},
   "outputs": [
    {
     "data": {
      "text/plain": [
       "(409,)"
      ]
     },
     "execution_count": 6,
     "metadata": {},
     "output_type": "execute_result"
    }
   ],
   "source": [
    "labels.shape"
   ]
  },
  {
   "cell_type": "markdown",
   "metadata": {},
   "source": [
    "## Traitement"
   ]
  },
  {
   "cell_type": "markdown",
   "metadata": {},
   "source": [
    "Les features qui nous intéressent sont (en mean et std): <br>\n",
    "**time domain** RR intervals, S1, S2, systolic, diastolic, systolic/RR, diastolic/RR, systolic/diastolic, amplitude systole/S1, amplitude diastole/S2, skewness et kurtosis des amplitudes dans chaque phase<br>\n",
    "**frequency domain** median and mean power across 9 frequency bands (ranging from 25 to 400Hz), *MFCC features*"
   ]
  },
  {
   "cell_type": "markdown",
   "metadata": {},
   "source": [
    "Pour des raisons de simplicité, on va faire commencer la segmentation sur une S1."
   ]
  },
  {
   "cell_type": "code",
   "execution_count": 109,
   "metadata": {},
   "outputs": [],
   "source": [
    "phases_list = ['S1','S2','systole','diastole']"
   ]
  },
  {
   "cell_type": "code",
   "execution_count": 112,
   "metadata": {},
   "outputs": [],
   "source": [
    "class PCG:\n",
    "    \n",
    "    def __init__(self,signal):\n",
    "        self.signal = np.asarray(signal[~np.isnan(signal)])-np.mean(signal) #on ignore les NaN et on recentre le signal\n",
    "        self.fs = 2000\n",
    "        \n",
    "    def envelogram(self):\n",
    "        E = self.signal\n",
    "        #on remplace les 0 par des petites valeurs (on doit éviter d'avoir un 0 pour calculer les log)\n",
    "        for i in range(self.signal.shape[0]):\n",
    "            if E[i]==0:\n",
    "                E[i] = E[i-1]/10\n",
    "        E = E/np.max(np.abs(E))\n",
    "        #E = E/np.std(E)\n",
    "        E = -1*(E**2) * np.log(E**2)\n",
    "\n",
    "        #on met les petites valeurs à 0 \n",
    "        # il faut d'abord calculer les maximums locaux \n",
    "        window_length = 750\n",
    "        local_max = np.array([np.max(E[i-window_length:i+window_length]) for i in range(window_length,len(E)-window_length)])\n",
    "        local_max = np.concatenate((local_max[0]*np.ones(window_length),local_max,local_max[-1]*np.ones(window_length)))\n",
    "        s = np.std(E)\n",
    "        m = np.mean(E)\n",
    "        mask = E>local_max/5\n",
    "        mask2 = np.abs(E-m)>s/2\n",
    "        mask3 = E>np.mean(E)*2\n",
    "        return E*mask\n",
    "    \n",
    "    \n",
    "    def consec_count(self):\n",
    "        e = self.envelogram()\n",
    "        start = 0\n",
    "        count_mask = []\n",
    "        while  start < len(e): \n",
    "            i = start\n",
    "            current = e[start]\n",
    "            while e[i]==current and i < len(e)-1:\n",
    "                i=i+1\n",
    "            l = int(i - start + 1)\n",
    "            count_mask = np.concatenate((count_mask,l*[l]))\n",
    "            start = i + 1\n",
    "        return count_mask\n",
    "    \n",
    "    def segmentation(self):\n",
    "        E = self.envelogram()\n",
    "        count_vec = self.consec_count() # le vecteur de comptage associé\n",
    "        length_threshold = 50\n",
    "        beat_mask = count_vec<=length_threshold\n",
    "        systole_mask = count_vec>length_threshold\n",
    "        segmentation = np.asarray([])\n",
    "        mean_beat_length = 0\n",
    "        beat_counter = 0\n",
    "        i = 0\n",
    "        splits = []\n",
    "        while i<count_vec.shape[0]:\n",
    "            stop = i \n",
    "            next_stop = i\n",
    "            while stop < count_vec.shape[0] and next_stop-stop<0.100*self.fs:\n",
    "                stop = next_stop\n",
    "                #on calcule la longueur du pic\n",
    "                while stop<count_vec.shape[0] and beat_mask[stop]:\n",
    "                    stop+=1\n",
    "\n",
    "                #on calcule l'écart avec le pic suivant, pour voir s'il s'agit du même pic\n",
    "                next_stop = stop\n",
    "                while next_stop<count_vec.shape[0] and not beat_mask[next_stop]:\n",
    "                    next_stop +=1\n",
    "                \n",
    "            #un battement long est un battement S1\n",
    "            if stop-i>mean_beat_length:\n",
    "                segmentation = np.concatenate((segmentation,np.repeat('S1',stop-i)))\n",
    "                current_seq = {'beat':'S1','passive':'systole'}\n",
    "                \n",
    "            #un battement court est un battement S2\n",
    "            else:\n",
    "                segmentation = np.concatenate((segmentation,np.repeat('S2',stop-i)))\n",
    "                current_seq = {'beat':'S2','passive':'diastole'}\n",
    "                \n",
    "            #update beat length and parser\n",
    "            mean_beat_length = np.average([stop-i,mean_beat_length],weights=[1,beat_counter])\n",
    "            beat_counter += 1\n",
    "            i = stop\n",
    "                \n",
    "            while stop<count_vec.shape[0] and systole_mask[stop]:\n",
    "                stop+=1\n",
    "                \n",
    "            segmentation = np.concatenate((segmentation,np.repeat(current_seq['passive'],stop-i)))\n",
    "            #update parser\n",
    "            i = stop\n",
    "        \n",
    "        #on supprime tout ce qui est avant la première phase S1: \n",
    "        j = 0 \n",
    "        while segmentation[j]!='S1':\n",
    "            j += 1\n",
    "            \n",
    "        return segmentation[j:],E[j:],j\n",
    "    \n",
    "    \n",
    "    def timeLengths(self,segmentation,phase):\n",
    "        res=[]\n",
    "        start=0\n",
    "        while start<segmentation.shape[0]:\n",
    "            i = start\n",
    "            while i<segmentation.shape[0] and segmentation[i]==phase:\n",
    "                i+=1\n",
    "            res.append(i - start)\n",
    "            start = i + 1\n",
    "        res = np.array(res)\n",
    "        return np.array(res[res!=0])\n",
    "    \n",
    "    def beatLengths(self,segmentation):\n",
    "        res = []\n",
    "        start = 0\n",
    "        bound = len(segmentation)\n",
    "        #on commence sur la première phase S1\n",
    "        while segmentation[start]!='S1':\n",
    "            start+=1\n",
    "        #on parcourt toute la segmentation\n",
    "        while start<bound:\n",
    "            explorer = start\n",
    "            while explorer < bound and segmentation[explorer]=='S1':#on finit la phase S1\n",
    "                explorer += 1\n",
    "            while explorer < bound and segmentation[explorer]!='S1': #on va jusqu'à la phase S1 suivante\n",
    "                explorer+=1\n",
    "            res.append(explorer-start)\n",
    "            start = explorer\n",
    "        return np.array(res)\n",
    "    \n",
    "    def extractFeatures(self):\n",
    "        segmentation, E = self.segmentation()\n",
    "        features = np.array([])\n",
    "        beat_lengths = self.beatLengths(segmentation)\n",
    "        #time features\n",
    "        for phase in phases_list:\n",
    "            time_features = self.timeLengths(segmentation,phase)\n",
    "            if phase=='systole' or phase=='diastole':\n",
    "                if time_features.shape==beat_lengths.shape:\n",
    "                    ratio = time_features/beatLengths\n",
    "                else: \n",
    "                    time_features = time_features[:-beat_lengths.shape[0]] #on resynchronise, normalement au + 1d'écart\n",
    "            features = np.append(features,[np.mean(time_features),np.std(time_features)])\n",
    "        \n",
    "        \n",
    "            \n",
    "        #peak features    \n",
    "        p_S1 = []\n",
    "        p_S2 = []\n",
    "        borne = []\n",
    "        for i in range(len(segmentation)-1):\n",
    "            if segmentation[i-1] != segmentation[i]:\n",
    "                borne.append(i)\n",
    "        for i in range(0,len(borne)-1):\n",
    "            if segmentation[borne[i]] == 'S1':\n",
    "                peaks, _ = find_peaks(E[borne[i]:borne[i+1]],height=0,distance = borne[i+1])\n",
    "                if len(peaks) != 0:\n",
    "                    index = borne[i] + peaks[0]\n",
    "                    p_S1.append(E[index])    \n",
    "            if segmentation[borne[i]] == 'S2':\n",
    "                peaks, _ = find_peaks(E[borne[i]:borne[i+1]],height=0,distance = borne[i+1])\n",
    "                if len(peaks) != 0:\n",
    "                    index = borne[i] + peaks[0]\n",
    "                    p_S2.append(E[index])\n",
    "        features = np.append(features,[np.mean(p_S1),np.min(p_S1),np.max(p_S1),np.std(p_S1)])\n",
    "        features = np.append(features,[np.mean(p_S2),np.min(p_S2),np.max(p_S2),np.std(p_S2)])\n",
    "        \n",
    "        #mean12 feature\n",
    "        features = np.append(features,max(features[8],features[12]))\n",
    "        \n",
    "        return features"
   ]
  },
  {
   "cell_type": "markdown",
   "metadata": {},
   "source": [
    "## Visualisation"
   ]
  },
  {
   "cell_type": "code",
   "execution_count": 113,
   "metadata": {},
   "outputs": [],
   "source": [
    "time_length = 10000\n",
    "sample = raw_data.loc[1][:time_length]"
   ]
  },
  {
   "cell_type": "code",
   "execution_count": 114,
   "metadata": {},
   "outputs": [],
   "source": [
    "pcg = PCG(sample)\n",
    "segmentation,E,lag = pcg.segmentation()"
   ]
  },
  {
   "cell_type": "code",
   "execution_count": 116,
   "metadata": {},
   "outputs": [
    {
     "data": {
      "text/plain": [
       "Text(0,0.5,'amplitude normalisée')"
      ]
     },
     "execution_count": 116,
     "metadata": {},
     "output_type": "execute_result"
    },
    {
     "data": {
      "image/png": "[encoded data removed]",
      "text/plain": [
       "<Figure size 1008x360 with 1 Axes>"
      ]
     },
     "metadata": {
      "needs_background": "light"
     },
     "output_type": "display_data"
    }
   ],
   "source": [
    "plt.figure(figsize=(14,5))\n",
    "l = time_length-lag\n",
    "x = np.linspace(0,l/2000,l)\n",
    "plt.fill_between(x,0,1,where = segmentation=='S1',facecolor='r',alpha=.3,label='S1')\n",
    "plt.fill_between(x,0,1,where = segmentation=='S2',facecolor='r',alpha=.1,label='S2')\n",
    "plt.fill_between(x,0,1,where = segmentation=='systole',facecolor='b',alpha=.3,label='systole')\n",
    "plt.fill_between(x,0,1,where = segmentation=='diastole',facecolor='b',alpha=.1,label='diastole')\n",
    "\n",
    "plt.plot(x,E/np.max(E),'k',label='signal')\n",
    "plt.legend()\n",
    "plt.xlabel('temps (s)')\n",
    "plt.ylabel('amplitude normalisée')"
   ]
  },
  {
   "cell_type": "markdown",
   "metadata": {},
   "source": [
    "## Analyse des features"
   ]
  },
  {
   "cell_type": "code",
   "execution_count": 17,
   "metadata": {},
   "outputs": [],
   "source": [
    "n_samples = raw_data.shape[0]"
   ]
  },
  {
   "cell_type": "code",
   "execution_count": 68,
   "metadata": {},
   "outputs": [
    {
     "name": "stderr",
     "output_type": "stream",
     "text": [
      "/anaconda3/lib/python3.7/site-packages/numpy/core/fromnumeric.py:2920: RuntimeWarning: Mean of empty slice.\n",
      "  out=out, **kwargs)\n",
      "/anaconda3/lib/python3.7/site-packages/numpy/core/_methods.py:85: RuntimeWarning: invalid value encountered in double_scalars\n",
      "  ret = ret.dtype.type(ret / rcount)\n"
     ]
    },
    {
     "name": "stdout",
     "output_type": "stream",
     "text": [
      "255\n",
      "262\n"
     ]
    }
   ],
   "source": [
    "t1,t2,t12,t21=[],[],[],[]\n",
    "for i in range(n_samples):\n",
    "    try:\n",
    "        pcg = PCG(raw_data.loc[i])\n",
    "        ft = pcg.extractFeatures()\n",
    "        t1.append(ft['t1'][0])\n",
    "        t2.append(ft['t2'][0])\n",
    "        t12.append(ft['t12'][0])\n",
    "        t21.append(ft['t21'][0])\n",
    "    except: \n",
    "        print(i)\n",
    "        pass"
   ]
  },
  {
   "cell_type": "code",
   "execution_count": 84,
   "metadata": {},
   "outputs": [],
   "source": [
    "good = labels[:n_samples]==1\n",
    "bad = labels[:n_samples]==-1"
   ]
  },
  {
   "cell_type": "code",
   "execution_count": 85,
   "metadata": {},
   "outputs": [],
   "source": [
    "t1 = np.asarray(t1)\n",
    "t2 = np.asarray(t2)\n",
    "t12 = np.asarray(t12)\n",
    "t21 = np.asarray(t21)\n",
    "mean12 = np.asarray([max(t12[i],t21[i]) for i in range (len(t12))])\n",
    "tlag = np.asarray([np.min(t1[i]+t2[i]+t12[i]+t21[i]) for i in range(len(t12))])"
   ]
  },
  {
   "cell_type": "markdown",
   "metadata": {},
   "source": [
    "## Classification"
   ]
  },
  {
   "cell_type": "code",
   "execution_count": 62,
   "metadata": {},
   "outputs": [],
   "source": [
    "from sklearn.ensemble import RandomForestClassifier\n",
    "from sklearn.model_selection import cross_val_score\n",
    "from sklearn.svm import SVC\n",
    "from sklearn.neural_network import MLPClassifier\n",
    "from sklearn.decomposition import PCA\n",
    "from sklearn.linear_model import LogisticRegression"
   ]
  },
  {
   "cell_type": "code",
   "execution_count": 47,
   "metadata": {},
   "outputs": [
    {
     "name": "stderr",
     "output_type": "stream",
     "text": [
      "/anaconda3/lib/python3.7/site-packages/numpy/core/fromnumeric.py:2920: RuntimeWarning: Mean of empty slice.\n",
      "  out=out, **kwargs)\n",
      "/anaconda3/lib/python3.7/site-packages/numpy/core/_methods.py:85: RuntimeWarning: invalid value encountered in double_scalars\n",
      "  ret = ret.dtype.type(ret / rcount)\n"
     ]
    },
    {
     "name": "stdout",
     "output_type": "stream",
     "text": [
      "64\n",
      "255\n",
      "262\n"
     ]
    }
   ],
   "source": [
    "features = np.zeros(25)\n",
    "final_labels = []\n",
    "for i in range (n_samples):\n",
    "    try:\n",
    "        pcg = PCG(raw_data.loc[i]) \n",
    "        ft = pcg.extractFeatures()\n",
    "        features = np.row_stack((features,ft))\n",
    "        final_labels.append(labels[i])\n",
    "    except: \n",
    "        print(i)"
   ]
  },
  {
   "cell_type": "code",
   "execution_count": 36,
   "metadata": {},
   "outputs": [],
   "source": [
    "pca = PCA(n_components = 10)\n",
    "X_red = pca.fit_transform(features)"
   ]
  },
  {
   "cell_type": "code",
   "execution_count": 70,
   "metadata": {},
   "outputs": [
    {
     "name": "stdout",
     "output_type": "stream",
     "text": [
      "[0.69117647 0.70792079]\n",
      "[0.69607843 0.6980198 ]\n",
      "[0.71078431 0.72277228]\n",
      "[0.70098039 0.71287129]\n"
     ]
    }
   ],
   "source": [
    "rf = RandomForestClassifier(n_estimators=10,max_depth=2)\n",
    "svm = SVC(C=100,gamma=100)\n",
    "nn = MLPClassifier()\n",
    "logit = LogisticRegression()\n",
    "for clf in [logit,rf,svm,nn]:\n",
    "    print(cross_val_score(rf,features,final_labels,cv=2))"
   ]
  },
  {
   "cell_type": "code",
   "execution_count": 108,
   "metadata": {},
   "outputs": [
    {
     "data": {
      "image/png": "[encoded data removed]",
      "text/plain": [
       "<Figure size 1008x1080 with 25 Axes>"
      ]
     },
     "metadata": {
      "needs_background": "light"
     },
     "output_type": "display_data"
    }
   ],
   "source": [
    "fig = plt.figure(figsize=(14,15))\n",
    "prov_labels = final_labels[3:]\n",
    "for i in range(25):\n",
    "    ax = fig.add_subplot(5,5,i+1)\n",
    "    ft = features[:,i]\n",
    "    normalft = ft[prov_labels==1]\n",
    "    anormalft = ft[prov_labels==-1]\n",
    "    ax.hist(normalft,density=True,color='b',alpha=0.5)\n",
    "    ax.hist(anormalft,density=True,color='r',alpha=0.5)"
   ]
  }
 ],
 "metadata": {
  "kernelspec": {
   "display_name": "Python 3",
   "language": "python",
   "name": "python3"
  },
  "language_info": {
   "codemirror_mode": {
    "name": "ipython",
    "version": 3
   },
   "file_extension": ".py",
   "mimetype": "text/x-python",
   "name": "python",
   "nbconvert_exporter": "python",
   "pygments_lexer": "ipython3",
   "version": "3.7.0"
  }
 },
 "nbformat": 4,
 "nbformat_minor": 2
}
