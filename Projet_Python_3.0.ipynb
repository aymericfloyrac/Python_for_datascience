{
 "cells": [
  {
   "cell_type": "code",
   "execution_count": 1,
   "metadata": {
    "collapsed": false
   },
   "outputs": [
    {
     "data": {
      "text/html": [
       "<div id=\"my_id_menu_nb\">run previous cell, wait for 2 seconds</div>\n",
       "<script>\n",
       "function repeat_indent_string(n){\n",
       "    var a = \"\" ;\n",
       "    for ( ; n > 0 ; --n)\n",
       "        a += \"    \";\n",
       "    return a;\n",
       "}\n",
       "// look up into all sections and builds an automated menu //\n",
       "var update_menu_string = function(begin, lfirst, llast, sformat, send, keep_item, begin_format, end_format) {\n",
       "    var anchors = document.getElementsByClassName(\"section\");\n",
       "    if (anchors.length == 0) {\n",
       "        anchors = document.getElementsByClassName(\"text_cell_render rendered_html\");\n",
       "    }\n",
       "    var i,t;\n",
       "    var text_menu = begin;\n",
       "    var text_memo = \"<pre>\\nlength:\" + anchors.length + \"\\n\";\n",
       "    var ind = \"\";\n",
       "    var memo_level = 1;\n",
       "    var href;\n",
       "    var tags = [];\n",
       "    var main_item = 0;\n",
       "    var format_open = 0;\n",
       "    for (i = 0; i <= llast; i++)\n",
       "        tags.push(\"h\" + i);\n",
       "\n",
       "    for (i = 0; i < anchors.length; i++) {\n",
       "        text_memo += \"**\" + anchors[i].id + \"--\\n\";\n",
       "\n",
       "        var child = null;\n",
       "        for(t = 0; t < tags.length; t++) {\n",
       "            var r = anchors[i].getElementsByTagName(tags[t]);\n",
       "            if (r.length > 0) {\n",
       "child = r[0];\n",
       "break;\n",
       "            }\n",
       "        }\n",
       "        if (child == null) {\n",
       "            text_memo += \"null\\n\";\n",
       "            continue;\n",
       "        }\n",
       "        if (anchors[i].hasAttribute(\"id\")) {\n",
       "            // when converted in RST\n",
       "            href = anchors[i].id;\n",
       "            text_memo += \"#1-\" + href;\n",
       "            // passer à child suivant (le chercher)\n",
       "        }\n",
       "        else if (child.hasAttribute(\"id\")) {\n",
       "            // in a notebook\n",
       "            href = child.id;\n",
       "            text_memo += \"#2-\" + href;\n",
       "        }\n",
       "        else {\n",
       "            text_memo += \"#3-\" + \"*\" + \"\\n\";\n",
       "            continue;\n",
       "        }\n",
       "        var title = child.textContent;\n",
       "        var level = parseInt(child.tagName.substring(1,2));\n",
       "\n",
       "        text_memo += \"--\" + level + \"?\" + lfirst + \"--\" + title + \"\\n\";\n",
       "\n",
       "        if ((level < lfirst) || (level > llast)) {\n",
       "            continue ;\n",
       "        }\n",
       "        if (title.endsWith('¶')) {\n",
       "            title = title.substring(0,title.length-1).replace(\"<\", \"&lt;\")\n",
       "         .replace(\">\", \"&gt;\").replace(\"&\", \"&amp;\");\n",
       "        }\n",
       "        if (title.length == 0) {\n",
       "            continue;\n",
       "        }\n",
       "\n",
       "        while (level < memo_level) {\n",
       "            text_menu += end_format + \"</ul>\\n\";\n",
       "            format_open -= 1;\n",
       "            memo_level -= 1;\n",
       "        }\n",
       "        if (level == lfirst) {\n",
       "            main_item += 1;\n",
       "        }\n",
       "        if (keep_item != -1 && main_item != keep_item + 1) {\n",
       "            // alert(main_item + \" - \" + level + \" - \" + keep_item);\n",
       "            continue;\n",
       "        }\n",
       "        while (level > memo_level) {\n",
       "            text_menu += \"<ul>\\n\";\n",
       "            memo_level += 1;\n",
       "        }\n",
       "        text_menu += repeat_indent_string(level-2);\n",
       "        text_menu += begin_format + sformat.replace(\"__HREF__\", href).replace(\"__TITLE__\", title);\n",
       "        format_open += 1;\n",
       "    }\n",
       "    while (1 < memo_level) {\n",
       "        text_menu += end_format + \"</ul>\\n\";\n",
       "        memo_level -= 1;\n",
       "        format_open -= 1;\n",
       "    }\n",
       "    text_menu += send;\n",
       "    //text_menu += \"\\n\" + text_memo;\n",
       "\n",
       "    while (format_open > 0) {\n",
       "        text_menu += end_format;\n",
       "        format_open -= 1;\n",
       "    }\n",
       "    return text_menu;\n",
       "};\n",
       "var update_menu = function() {\n",
       "    var sbegin = \"\";\n",
       "    var sformat = '<a href=\"#__HREF__\">__TITLE__</a>';\n",
       "    var send = \"\";\n",
       "    var begin_format = '<li>';\n",
       "    var end_format = '</li>';\n",
       "    var keep_item = -1;\n",
       "    var text_menu = update_menu_string(sbegin, 2, 4, sformat, send, keep_item,\n",
       "       begin_format, end_format);\n",
       "    var menu = document.getElementById(\"my_id_menu_nb\");\n",
       "    menu.innerHTML=text_menu;\n",
       "};\n",
       "window.setTimeout(update_menu,2000);\n",
       "            </script>"
      ],
      "text/plain": [
       "<IPython.core.display.HTML object>"
      ]
     },
     "execution_count": 1,
     "metadata": {},
     "output_type": "execute_result"
    }
   ],
   "source": [
    "from jyquickhelper import add_notebook_menu\n",
    "add_notebook_menu()"
   ]
  },
  {
   "cell_type": "markdown",
   "metadata": {},
   "source": [
    "# Imports"
   ]
  },
  {
   "cell_type": "code",
   "execution_count": 42,
   "metadata": {
    "collapsed": true
   },
   "outputs": [],
   "source": [
    "import pandas as pd\n",
    "import numpy as np \n",
    "import matplotlib.pyplot as plt\n",
    "import time\n",
    "import seaborn as sns\n",
    "import wave, os, glob\n",
    "import pandas as pd\n",
    "import numpy as np\n",
    "from scipy.io import wavfile\n",
    "from scipy.signal import find_peaks"
   ]
  },
  {
   "cell_type": "code",
   "execution_count": null,
   "metadata": {
    "collapsed": true
   },
   "outputs": [],
   "source": [
    "###On importe chaque .wav pour le transformer en dataframe puis en indiquant son origine via la variable training\n",
    "zero_a = []\n",
    "zero_a = pd.DataFrame(zero_a)\n",
    "path = '\\\\Python\\\\Projet\\\\training\\\\training-a'\n",
    "for filename in glob.glob(os.path.join(path, '*.wav')):\n",
    "    fs, data = wavfile.read(filename)\n",
    "    df = pd.DataFrame(data)\n",
    "    df = df.transpose()\n",
    "    zero_a = zero_a.append(df)\n",
    "    del data, fs\n",
    "\n",
    "ref = pd.read_csv('\\\\REFERENCE.csv',sep = ',')\n",
    "#On merge selon l'index car l'ordre est le même\n",
    "base = pd.merge(df, ref, left_index=True, right_index=True)\n",
    "\n",
    "#Export de la base\n",
    "base.to_csv('training-a.csv', index  = False)"
   ]
  },
  {
   "cell_type": "code",
   "execution_count": 3,
   "metadata": {
    "collapsed": true
   },
   "outputs": [],
   "source": [
    "dataset = pd.read_csv('training-a.csv')"
   ]
  },
  {
   "cell_type": "code",
   "execution_count": 4,
   "metadata": {
    "collapsed": true
   },
   "outputs": [],
   "source": [
    "labels = pd.read_csv('training-a/REFERENCE.csv',header=None,names=['filename','label'])['label']\n",
    "raw_data = dataset.drop(['label'],axis=1)"
   ]
  },
  {
   "cell_type": "markdown",
   "metadata": {},
   "source": [
    "## Traitement"
   ]
  },
  {
   "cell_type": "code",
   "execution_count": 5,
   "metadata": {
    "collapsed": true
   },
   "outputs": [],
   "source": [
    "phases_list = ['S1','S2','systole','diastole']\n",
    "features_list = ['t1','t2','t12','t21']\n",
    "phases_peak = [\"S1\",\"S2\"]\n",
    "fea_peak = [\"S1\",\"S2\"]"
   ]
  },
  {
   "cell_type": "code",
   "execution_count": 309,
   "metadata": {
    "collapsed": true
   },
   "outputs": [],
   "source": [
    "class PCG:\n",
    "    \n",
    "    def __init__(self,signal):\n",
    "        self.signal = np.asarray(signal[~np.isnan(signal)])-np.mean(signal) #on ignore les NaN et on recentre le signal\n",
    "        self.fs = 2000\n",
    "        \n",
    "    def envelogram(self):\n",
    "        E = self.signal\n",
    "        #on remplace les 0 par des petites valeurs (on doit éviter d'avoir un 0 pour calculer les log)\n",
    "        for i in range(self.signal.shape[0]):\n",
    "            if E[i]==0:\n",
    "                E[i] = E[i-1]/10\n",
    "        E = E/np.max(np.abs(E))\n",
    "        #E = E/np.std(E)\n",
    "        E = -1*(E**2) * np.log(E**2)\n",
    "\n",
    "        #on met les petites valeurs à 0 \n",
    "        # il faut d'abord calculer les maximums locaux \n",
    "        window_length = 750\n",
    "        local_max = np.array([np.max(E[i-window_length:i+window_length]) for i in range(window_length,len(E)-window_length)])\n",
    "        local_max = np.concatenate((local_max[0]*np.ones(window_length),local_max,local_max[-1]*np.ones(window_length)))\n",
    "        s = np.std(E)\n",
    "        m = np.mean(E)\n",
    "        mask = E>local_max/4\n",
    "        mask2 = np.abs(E-m)>s/2\n",
    "        mask3 = E>np.mean(E)*2\n",
    "        return E*mask\n",
    "    \n",
    "    def setStart(self,E):\n",
    "        #on s'assure de bien commencer sur une phase S1 ou S2\n",
    "        start = 0\n",
    "        while E[start]==0:\n",
    "            start += 1\n",
    "        E = E [start:]\n",
    "        return E, start\n",
    "    \n",
    "    def consec_count(self):\n",
    "        e = self.setStart(self.envelogram())[0]\n",
    "        start = 0\n",
    "        count_mask = []\n",
    "        while  start < len(e): \n",
    "            i = start\n",
    "            current = e[start]\n",
    "            while e[i]==current and i < len(e)-1:\n",
    "                i=i+1\n",
    "            l = int(i - start + 1)\n",
    "            count_mask = np.concatenate((count_mask,l*[l]))\n",
    "            start = i + 1\n",
    "        return count_mask\n",
    "    \n",
    "    def segmentation(self):\n",
    "        E = self.setStart(self.envelogram())[0] # l'envelogramme commencé sur un battement\n",
    "        count_vec = self.consec_count() # le vecteur de comptage associé\n",
    "        beat_mask = count_vec<=100\n",
    "        systole_mask = count_vec>100\n",
    "        segmentation = np.asarray([])\n",
    "        mean_S1_length = 0\n",
    "        S1_counter = 0\n",
    "        i = 0\n",
    "        while i<count_vec.shape[0]:\n",
    "            stop = i \n",
    "            while stop<count_vec.shape[0] and beat_mask[stop]:\n",
    "                stop+=1\n",
    "            #if np.max(E[i:stop])-np.min(E[i:stop])>(np.max(E)-np.min(E))*0.7 and stop-i>100:\n",
    "            if len(find_peaks(E[i:stop],distance=5)[0])>5 and stop-i>mean_S1_length*0.7:\n",
    "                segmentation = np.concatenate((segmentation,np.repeat('S1',stop-i)))\n",
    "                current_seq = {'beat':'S1','passive':'systole'}\n",
    "                mean_S1_length = np.average([mean_S1_length,stop-i],weights=np.array([S1_counter,1])/(S1_counter+1))\n",
    "                S1_counter += 1\n",
    "            else:\n",
    "                segmentation = np.concatenate((segmentation,np.repeat('S2',stop-i)))\n",
    "                current_seq = {'beat':'S2','passive':'diastole'}\n",
    "            i = stop\n",
    "                \n",
    "            while stop<count_vec.shape[0] and systole_mask[stop]:\n",
    "                stop+=1\n",
    "            segmentation = np.concatenate((segmentation,np.repeat(current_seq['passive'],stop-i)))\n",
    "            i = stop\n",
    "            \n",
    "        return segmentation\n",
    "    \n",
    "    def checkSegmentation(self,segmentation):\n",
    "        systole_length = np.sum(segmentation=='systole')\n",
    "        diastole_length = np.sum(segmentation=='diastole')\n",
    "        average_systole_length = systole_length/(systole_length+diastole_length)\n",
    "        average_diastole_length = diastole_length/(systole_length+diastole_length)\n",
    "        return (average_systole_length<average_diastole_length)\n",
    "    \n",
    "    \n",
    "    def timeLengths(self,segmentation,phase):\n",
    "        res=[]\n",
    "        start=0\n",
    "        while start<segmentation.shape[0]:\n",
    "            i = start\n",
    "            while i<segmentation.shape[0] and segmentation[i]==phase:\n",
    "                i+=1\n",
    "            res.append(i - start)\n",
    "            start = i + 1\n",
    "        res = np.array(res)\n",
    "        return res[res!=0]\n",
    "    \n",
    "    def extractFeatures(self):\n",
    "        segmentation = self.segmentation()\n",
    "        features = {}\n",
    "        for phase,ft in zip(phases_list,features_list):\n",
    "            time_features = self.timeLengths(segmentation,phase)\n",
    "            features.update({ft:[np.mean(time_features),np.min(time_features),\n",
    "                                 np.max(time_features),np.std(time_features)]})\n",
    "        return features\n",
    "    \n",
    "    def peak_Features(self):\n",
    "        #Fonction peak à recontruire pour coller à la segmentation\n",
    "        segmentation = self.segmentation()\n",
    "        peak_features = {}\n",
    "        p_S1 = []\n",
    "        p_S2 = []\n",
    "        E,lag = self.setStart(self.envelogram())\n",
    "        borne = []\n",
    "        for i in range(len(segmentation)-1):\n",
    "            if segmentation[i-1] != segmentation[i]:\n",
    "                borne.append(i)\n",
    "        for i in range(0,len(borne)-1):\n",
    "            if segmentation[borne[i]] == 'S1':\n",
    "                peaks, _ = find_peaks(E[borne[i]:borne[i+1]],height=0,distance = borne[i+1])\n",
    "                if len(peaks) != 0:\n",
    "                    index = borne[i] + peaks[0]\n",
    "                    p_S1.append(E[index])    \n",
    "            if segmentation[borne[i]] == 'S2':\n",
    "                peaks, _ = find_peaks(E[borne[i]:borne[i+1]],height=0,distance = borne[i+1])\n",
    "                if len(peaks) != 0:\n",
    "                    index = borne[i] + peaks[0]\n",
    "                    p_S2.append(E[index])\n",
    "        peak_features.update({\"S1\":[np.mean(p_S1),np.min(p_S1),np.max(p_S1),np.std(p_S1)]})\n",
    "        peak_features.update({\"S2\":[np.mean(p_S2),np.min(p_S2),np.max(p_S2),np.std(p_S2)]})\n",
    "        return peak_features  \n",
    "            \n",
    "    def mean_Features(self):\n",
    "        ft = self.extractFeatures()\n",
    "        mean_features = {}\n",
    "        mean_features.update({\"mean_12\" : [max(ft['t12'][0], ft['t21'][0])]})\n",
    "        return mean_features "
   ]
  },
  {
   "cell_type": "markdown",
   "metadata": {},
   "source": [
    "# Visualisation"
   ]
  },
  {
   "cell_type": "code",
   "execution_count": 310,
   "metadata": {
    "collapsed": true
   },
   "outputs": [],
   "source": [
    "time_length = 10000\n",
    "sample = raw_data.loc[3][:time_length]"
   ]
  },
  {
   "cell_type": "code",
   "execution_count": 311,
   "metadata": {
    "collapsed": true
   },
   "outputs": [],
   "source": [
    "pcg = PCG(sample)\n",
    "segmentation = pcg.segmentation()"
   ]
  },
  {
   "cell_type": "code",
   "execution_count": 312,
   "metadata": {
    "collapsed": false
   },
   "outputs": [
    {
     "data": {
      "text/plain": [
       "Text(0,0.5,'amplitude normalisée')"
      ]
     },
     "execution_count": 312,
     "metadata": {},
     "output_type": "execute_result"
    },
    {
     "data": {
      "image/png": "[encoded data removed]",
      "text/plain": [
       "<Figure size 1008x360 with 1 Axes>"
      ]
     },
     "metadata": {
      "needs_background": "light"
     },
     "output_type": "display_data"
    }
   ],
   "source": [
    "plt.figure(figsize=(14,5))\n",
    "E,lag = pcg.setStart(pcg.envelogram())\n",
    "l = time_length-lag\n",
    "x = np.linspace(0,l/2000,l)\n",
    "plt.fill_between(x,0,1,where = segmentation=='S1',facecolor='r',alpha=.3,label='S1')\n",
    "plt.fill_between(x,0,1,where = segmentation=='S2',facecolor='r',alpha=.1,label='S2')\n",
    "plt.fill_between(x,0,1,where = segmentation=='systole',facecolor='b',alpha=.3,label='systole')\n",
    "plt.fill_between(x,0,1,where = segmentation=='diastole',facecolor='b',alpha=.1,label='diastole')\n",
    "\n",
    "plt.plot(x,E/np.max(E),'k',label='signal')\n",
    "plt.legend()\n",
    "plt.xlabel('temps (s)')\n",
    "plt.ylabel('amplitude normalisée')"
   ]
  },
  {
   "cell_type": "markdown",
   "metadata": {},
   "source": [
    "# Analyse des features"
   ]
  },
  {
   "cell_type": "code",
   "execution_count": 313,
   "metadata": {
    "collapsed": true
   },
   "outputs": [],
   "source": [
    "n_samples = raw_data.shape[0]"
   ]
  },
  {
   "cell_type": "code",
   "execution_count": null,
   "metadata": {
    "collapsed": false
   },
   "outputs": [
    {
     "name": "stderr",
     "output_type": "stream",
     "text": [
      "/Users/aymeric/anaconda3/lib/python3.7/site-packages/numpy/core/fromnumeric.py:2920: RuntimeWarning: Mean of empty slice.\n",
      "  out=out, **kwargs)\n",
      "/Users/aymeric/anaconda3/lib/python3.7/site-packages/numpy/core/_methods.py:85: RuntimeWarning: invalid value encountered in double_scalars\n",
      "  ret = ret.dtype.type(ret / rcount)\n"
     ]
    }
   ],
   "source": [
    "t1,t2,t12,t21,ps1,ps2,m12 = [],[],[],[],[],[],[]\n",
    "for i in range(n_samples):\n",
    "    try:\n",
    "        pcg = PCG(raw_data.loc[i])\n",
    "        ft = pcg.extractFeatures()\n",
    "        pft = pcg.peak_Features()\n",
    "        mft = pcg.mean_Features()\n",
    "        t1.append(ft['t1'][0])\n",
    "        t2.append(ft['t2'][0])\n",
    "        t12.append(ft['t12'][0])\n",
    "        t21.append(ft['t21'][0])\n",
    "        ps1.append(pft['S1'][0])\n",
    "        ps2.append(pft['S2'][0])\n",
    "        m12.append(mft['mean_12'][0])\n",
    "    except: \n",
    "        pass"
   ]
  },
  {
   "cell_type": "code",
   "execution_count": null,
   "metadata": {
    "collapsed": true
   },
   "outputs": [],
   "source": [
    "#Convertion en Df au cas où\n",
    "X = np.column_stack((t1,t2,t12,t21,m12,ps1,ps2,good))\n",
    "X_df = pd.DataFrame(X, columns=[\"t1\",\"t2\",\"t12\",\"t21\",\"mean12\",\"S1\",\"S2\",\"Normal\"])\n",
    "X_df[\"Normal\"] = X_df[\"Normal\"].map({0 : \"anormal\", 1 : \"normal\"})"
   ]
  },
  {
   "cell_type": "code",
   "execution_count": null,
   "metadata": {
    "collapsed": true
   },
   "outputs": [],
   "source": [
    "#taleau descriptif\n",
    "X_df.groupby([\"Normal\"]).describe().unstack()"
   ]
  },
  {
   "cell_type": "code",
   "execution_count": null,
   "metadata": {
    "collapsed": true
   },
   "outputs": [],
   "source": [
    "#Matrice de corrélation\n",
    "sns.heatmap(X_df.corr())"
   ]
  },
  {
   "cell_type": "code",
   "execution_count": null,
   "metadata": {
    "collapsed": true
   },
   "outputs": [],
   "source": [
    "#Violin plot per variable\n",
    "features_list = X_df.columns[:-1]\n",
    "for i in features_list:\n",
    "    fig = plt.figure()\n",
    "    fig = plt.figure(figsize=(5,5))\n",
    "    ax = sns.violinplot(x = [i]*len(X_df), y=X_df[i],hue=X_df[\"Normal\"], palette=\"Set2\", split = True)"
   ]
  },
  {
   "cell_type": "code",
   "execution_count": 126,
   "metadata": {
    "collapsed": true
   },
   "outputs": [],
   "source": [
    "good = labels[:n_samples]==1\n",
    "bad = labels[:n_samples]==-1"
   ]
  },
  {
   "cell_type": "code",
   "execution_count": null,
   "metadata": {
    "collapsed": true
   },
   "outputs": [],
   "source": [
    "#Histogrammes par variable\n",
    "fig = plt.figure(figsize=(14,10))\n",
    "ax1 = fig.add_subplot(221)\n",
    "#t = t\n",
    "ax1.hist(t1[good],normed=True,color='b',label='normal',alpha=.5)\n",
    "t = t1[bad]\n",
    "ax1.hist(t1[bad],normed=True,color='r',label='anormal',alpha=.5)\n",
    "ax1.set_title('t1')\n",
    "\n",
    "ax2 = fig.add_subplot(222)\n",
    "t = t2[good]\n",
    "ax2.hist(t2[good],normed=True,color='b',label='normal',alpha=.5)\n",
    "t = t2[bad]\n",
    "ax2.hist(t2[bad],normed=True,color='r',label='anormal',alpha=.5)\n",
    "ax2.set_title('t2')\n",
    "\n",
    "ax3 = fig.add_subplot(223)\n",
    "ax3.hist(t12[good],normed=True,color='b',label='normal',alpha=.5)\n",
    "ax3.hist(t12[bad],normed=True,color='r',label='anormal',alpha=.5)\n",
    "ax3.set_title('t12')\n",
    "\n",
    "ax4 = fig.add_subplot(224)\n",
    "ax4.hist(t21[good],normed=True,color='b',label='normal',alpha=.5)\n",
    "ax4.hist(t21[bad],normed=True,color='r',label='anormal',alpha=.5)\n",
    "ax4.set_title('t21')"
   ]
  },
  {
   "cell_type": "markdown",
   "metadata": {},
   "source": [
    "# Classification"
   ]
  },
  {
   "cell_type": "code",
   "execution_count": 134,
   "metadata": {
    "collapsed": true
   },
   "outputs": [],
   "source": [
    "from sklearn.ensemble import RandomForestClassifier\n",
    "from sklearn.model_selection import cross_val_score\n",
    "from sklearn.svm import SVC\n",
    "from sklearn.metrics import accuracy_score \n",
    "from sklearn.linear_model import LogisticRegression"
   ]
  },
  {
   "cell_type": "code",
   "execution_count": 131,
   "metadata": {
    "collapsed": false
   },
   "outputs": [
    {
     "data": {
      "text/plain": [
       "(407, 5)"
      ]
     },
     "execution_count": 131,
     "metadata": {},
     "output_type": "execute_result"
    }
   ],
   "source": [
    "features = np.column_stack((t1,t2,t12,t21,ps1,ps2,m12))\n",
    "features.shape"
   ]
  },
  {
   "cell_type": "code",
   "execution_count": 132,
   "metadata": {
    "collapsed": false
   },
   "outputs": [
    {
     "data": {
      "text/plain": [
       "(407,)"
      ]
     },
     "execution_count": 132,
     "metadata": {},
     "output_type": "execute_result"
    }
   ],
   "source": [
    "labels_=np.concatenate((labels[:313],labels[315:]))\n",
    "labels_.shape"
   ]
  },
  {
   "cell_type": "code",
   "execution_count": null,
   "metadata": {
    "collapsed": true
   },
   "outputs": [],
   "source": [
    "#Logit\n",
    "X_train, X_test, y_train, y_test = train_test_split(features, labels_, test_size=0.20)\n",
    "logit = LogisticRegression()\n",
    "result = logit.fit(X_train, y_train)\n",
    "predictions = logit.predict(X_test)\n",
    "print(accuracy_score(y_test, predictions))"
   ]
  },
  {
   "cell_type": "code",
   "execution_count": null,
   "metadata": {
    "collapsed": true
   },
   "outputs": [],
   "source": [
    "#RandomForest\n",
    "X_train, X_test, y_train, y_test = train_test_split(features, labels_, test_size=0.20)\n",
    "RF =  RandomForestClassifier(n_estimators=150, max_depth=5, random_state=0)\n",
    "result = RF.fit(X_train, y_train)\n",
    "predictions = RF.predict(X_test)\n",
    "print(accuracy_score(y_test, predictions))"
   ]
  },
  {
   "cell_type": "code",
   "execution_count": null,
   "metadata": {
    "collapsed": true
   },
   "outputs": [],
   "source": [
    "#SVM\n",
    "X_train, X_test, y_train, y_test = train_test_split(features, labels_, test_size=0.20)\n",
    "clf = svm.SVC()\n",
    "result = clf.fit(X_train, y_train)\n",
    "predictions = clf.predict(X_test)\n",
    "print(accuracy_score(y_test, predictions))"
   ]
  },
  {
   "cell_type": "code",
   "execution_count": 135,
   "metadata": {
    "collapsed": false
   },
   "outputs": [
    {
     "name": "stdout",
     "output_type": "stream",
     "text": [
      "[0.71323529 0.71323529 0.6962963 ]\n"
     ]
    }
   ],
   "source": [
    "rf = RandomForestClassifier()\n",
    "svm = SVC()\n",
    "print(cross_val_score(svm,features,labels_,cv=3))"
   ]
  }
 ],
 "metadata": {
  "kernelspec": {
   "display_name": "Python 3",
   "language": "python",
   "name": "python3"
  },
  "language_info": {
   "codemirror_mode": {
    "name": "ipython",
    "version": 3
   },
   "file_extension": ".py",
   "mimetype": "text/x-python",
   "name": "python",
   "nbconvert_exporter": "python",
   "pygments_lexer": "ipython3",
   "version": "3.6.7"
  }
 },
 "nbformat": 4,
 "nbformat_minor": 2
}
