{
 "cells": [
  {
   "cell_type": "code",
   "execution_count": null,
   "metadata": {
    "collapsed": false
   },
   "outputs": [],
   "source": [
    "from jyquickhelper import add_notebook_menu\n",
    "add_notebook_menu()"
   ]
  },
  {
   "cell_type": "markdown",
   "metadata": {},
   "source": [
    "# Floyrac Aymeric et Ané Benoit, Projet Python 2A ENSAE ParisTech"
   ]
  },
  {
   "cell_type": "markdown",
   "metadata": {},
   "source": [
    "# Détection d'anomalies cardiaques à partir d'enregistrements sonores de battements de coeur par phonocardiogramme\n",
    "\n",
    "Notre projet Python provient du Challenge Physionet 2016 (https://physionet.org/). Ce site propose un challenge tous les ans sur le thème de l'analyse de signaux physiologiques en OpenSource. En 2016, un ensemble d'enregistrements du coeur par phonocardiogramme ont été fournis aux candidats classés dans 6 sous dossiers (a,b,c,d,e et f) afin de construire un modèle prédictif pour déterminer si un coeur bat de façon anormale ou non. Notre objectif était de construire un ensemble de variables explicatives à partir d'une base constituée des signaux bruts afin de bâtir un modèle de Machine Learning. Au préalable, un travail de recherche bibliographique a été necessaire afin de se familiariser avec le vocabulaire du sujet, trouver la méthodologie à appliquer, connaitre les features à extraire ainsi que les modèles ayant déjà été appliqués dans des cas similaires. L'ensemble des articles que nous avons consultés sont renseignés en fin de projet dans la bibliographie.  \n",
    "\n",
    "Nous pouvons présenter notre travail à travers 5 étapes :  \n",
    "\n",
    "1) La conversion des enregistrements sonores en matrice exploitable  \n",
    "2) Notre algorithme qui nous permet de traiter le signal brut pour rendre l'extraction des features plus efficace  \n",
    "3) la visualisation des données  \n",
    "4) L'analyse des features  \n",
    "5) les modèles prédictifs de Machine Learning  \n",
    "6) Nos commentaires sur le travail effectué  \n"
   ]
  },
  {
   "cell_type": "markdown",
   "metadata": {},
   "source": [
    "## Conversion des enregistrements sonores en matrice"
   ]
  },
  {
   "cell_type": "markdown",
   "metadata": {},
   "source": [
    "L'objectif de cette partie de code est de convertir les enregistrements sonores en matrice exploitable pour notre algorithme. "
   ]
  },
  {
   "cell_type": "code",
   "execution_count": null,
   "metadata": {
    "collapsed": true
   },
   "outputs": [],
   "source": [
    "import wave, os, glob\n",
    "import pandas as pd\n",
    "import numpy as np\n",
    "from scipy.io import wavfile"
   ]
  },
  {
   "cell_type": "code",
   "execution_count": null,
   "metadata": {
    "collapsed": true
   },
   "outputs": [],
   "source": [
    "###On importe chaque .wav pour le transformer en vecteur. Nous bouclons pour chaque fichier .wav se trouvant dans un dossier\n",
    "\n",
    "zero_a = []\n",
    "zero_a = pd.DataFrame(zero_a)\n",
    "path = 'C:\\\\Users\\\\benoit\\\\Desktop\\\\ENS\\\\ENSAE\\\\2A\\\\S1\\\\Python\\\\Projet\\\\training\\\\training-a'\n",
    "for filename in glob.glob(os.path.join(path, '*.wav')):\n",
    "    fs, data = wavfile.read(filename)\n",
    "    df = pd.DataFrame(data)\n",
    "    df = df.transpose()\n",
    "    zero_a = zero_a.append(df)\n",
    "    del data, fs\n",
    "\n",
    "zero_b = []\n",
    "zero_b = pd.DataFrame(zero_b)\n",
    "path = 'C:\\\\Users\\\\benoit\\\\Desktop\\\\ENS\\\\ENSAE\\\\2A\\\\S1\\\\Python\\\\Projet\\\\training\\\\training-b'\n",
    "for filename in glob.glob(os.path.join(path, '*.wav')):\n",
    "    fs, data = wavfile.read(filename)\n",
    "    df = pd.DataFrame(data)\n",
    "    df = df.transpose()\n",
    "    zero_b = zero_b.append(df)\n",
    "    del data, fs\n",
    "\n",
    "zero_c = []\n",
    "zero_c = pd.DataFrame(zero_c)\n",
    "path = 'C:\\\\Users\\\\benoit\\\\Desktop\\\\ENS\\\\ENSAE\\\\2A\\\\S1\\\\Python\\\\Projet\\\\training\\\\training-c'\n",
    "for filename in glob.glob(os.path.join(path, '*.wav')):\n",
    "    fs, data = wavfile.read(filename)\n",
    "    df = pd.DataFrame(data)\n",
    "    df = df.transpose()\n",
    "    zero_c = zero_c.append(df)\n",
    "    del data, fs\n",
    "\n",
    "zero_d = []\n",
    "zero_d = pd.DataFrame(zero_d)\n",
    "path = 'C:\\\\Users\\\\benoit\\\\Desktop\\\\ENS\\\\ENSAE\\\\2A\\\\S1\\\\Python\\\\Projet\\\\training\\\\training-d'\n",
    "for filename in glob.glob(os.path.join(path, '*.wav')):\n",
    "    fs, data = wavfile.read(filename)\n",
    "    df = pd.DataFrame(data)\n",
    "    df = df.transpose()\n",
    "    zero_d = zero_d.append(df)\n",
    "    del data, fs\n",
    "    \n",
    "zero_e = []\n",
    "zero_e = pd.DataFrame(zero_e)\n",
    "path = 'C:\\\\Users\\\\benoit\\\\Desktop\\\\ENS\\\\ENSAE\\\\2A\\\\S1\\\\Python\\\\Projet\\\\training\\\\training-e'\n",
    "for filename in glob.glob(os.path.join(path, '*.wav')):\n",
    "    fs, data = wavfile.read(filename)\n",
    "    df = pd.DataFrame(data)\n",
    "    df = df.transpose()\n",
    "    zero_e = zero_e.append(df)\n",
    "    del data, fs\n",
    "\n",
    "zero_f = []\n",
    "zero_f = pd.DataFrame(zero_f)\n",
    "path = 'C:\\\\Users\\\\benoit\\\\Desktop\\\\ENS\\\\ENSAE\\\\2A\\\\S1\\\\Python\\\\Projet\\\\training\\\\training-f'\n",
    "for filename in glob.glob(os.path.join(path, '*.wav')):\n",
    "    fs, data = wavfile.read(filename)\n",
    "    df = pd.DataFrame(data)\n",
    "    df = df.transpose()\n",
    "    zero_f = zero_f.append(df)\n",
    "    del data, fs\n",
    "    \n",
    "train = []\n",
    "train = pd.DataFrame(train)\n",
    "train = zero_a.append(zero_b, ignore_index=True)\n",
    "train = train.append(zero_e, ignore_index=True)\n",
    "\n",
    "test = []\n",
    "test = pd.DataFrame(test)\n",
    "test = zero_c.append(zero_d, ignore_index=True)\n",
    "test = test.append(zero_f, ignore_index=True)\n",
    "\n",
    "#Nous exportons les bases au format .npy\n",
    "np.save('training_ab.npy', train, allow_pickle=True)\n",
    "np.save('test_cdf.npy', test, allow_pickle=True)"
   ]
  },
  {
   "cell_type": "markdown",
   "metadata": {},
   "source": [
    "## Importation de la base\n",
    "Nous utilisons ici les matrices au format .npy afin d'éviter d'importer des csv et de travailler avec des dataframes. Cette méthode s'est avérée utile dans la mesure où nos ordinateurs travaillaient plus vite avec ces formats"
   ]
  },
  {
   "cell_type": "code",
   "execution_count": 1,
   "metadata": {
    "collapsed": false
   },
   "outputs": [],
   "source": [
    "import pandas as pd\n",
    "import numpy as np \n",
    "import matplotlib.pyplot as plt\n",
    "import time\n",
    "import seaborn as sns\n",
    "import wave, os, glob\n",
    "import pandas as pd\n",
    "import numpy as np\n",
    "from scipy.io import wavfile\n",
    "from scipy.signal import find_peaks, welch\n",
    "from scipy.stats import kurtosis, skew\n",
    "from scipy.fftpack import fft,fftfreq"
   ]
  },
  {
   "cell_type": "code",
   "execution_count": 2,
   "metadata": {
    "collapsed": false
   },
   "outputs": [],
   "source": [
    "train = np.load('C:\\\\Users\\\\benoit\\\\Desktop\\\\ENS\\\\ENSAE\\\\2A\\\\S1\\\\Python\\\\Projet\\\\temp\\\\training_ab.npy')"
   ]
  },
  {
   "cell_type": "code",
   "execution_count": 4,
   "metadata": {
    "collapsed": false
   },
   "outputs": [],
   "source": [
    "test = np.load('C:\\\\Users\\\\benoit\\\\Desktop\\\\ENS\\\\ENSAE\\\\2A\\\\S1\\\\Python\\\\Projet\\\\temp\\\\test_cdf.npy')"
   ]
  },
  {
   "cell_type": "markdown",
   "metadata": {},
   "source": [
    "Nous importons la variables à prédire (car d'un coeur sain ou non) pour chacun des training sets disponibles que nous convertissons en vecteur"
   ]
  },
  {
   "cell_type": "code",
   "execution_count": 9,
   "metadata": {
    "collapsed": true
   },
   "outputs": [],
   "source": [
    "#training : a b d f\n",
    "labelsa = pd.read_csv('C:\\\\Users\\\\benoit\\\\Desktop\\\\ENS\\\\ENSAE\\\\2A\\\\S1\\\\Python\\\\Projet\\\\training\\\\training-a/REFERENCE.csv',header=None,names=['filename','label'])['label']\n",
    "labelsb = pd.read_csv('C:\\\\Users\\\\benoit\\\\Desktop\\\\ENS\\\\ENSAE\\\\2A\\\\S1\\\\Python\\\\Projet\\\\training\\\\training-b/REFERENCE.csv',header=None,names=['filename','label'])['label']\n",
    "labelsc = pd.read_csv('C:\\\\Users\\\\benoit\\\\Desktop\\\\ENS\\\\ENSAE\\\\2A\\\\S1\\\\Python\\\\Projet\\\\training\\\\training-c/REFERENCE.csv',header=None,names=['filename','label'])['label']\n",
    "labelsd = pd.read_csv('C:\\\\Users\\\\benoit\\\\Desktop\\\\ENS\\\\ENSAE\\\\2A\\\\S1\\\\Python\\\\Projet\\\\training\\\\training-d/REFERENCE.csv',header=None,names=['filename','label'])['label']\n",
    "labelsf = pd.read_csv('C:\\\\Users\\\\benoit\\\\Desktop\\\\ENS\\\\ENSAE\\\\2A\\\\S1\\\\Python\\\\Projet\\\\training\\\\training-f/REFERENCE.csv',header=None,names=['filename','label'])['label']\n",
    "\n",
    "labels_training = []\n",
    "labels_training = pd.DataFrame(labels_training)\n",
    "labels_training = labelsa.append(labelsb, ignore_index=True)\n",
    "labels_training = np.asarray(labels_training)\n",
    "labels_test = []\n",
    "labels_test = pd.DataFrame(labels_test)\n",
    "labels_test = labelsc.append(labelsd, ignore_index=True)\n",
    "labels_test = labels_test.append(labelsf, ignore_index=True)"
   ]
  },
  {
   "cell_type": "code",
   "execution_count": 10,
   "metadata": {
    "collapsed": false,
    "scrolled": true
   },
   "outputs": [],
   "source": [
    "labels_training = np.asarray(labels_training)\n",
    "labels_test = np.asarray(labels_test)"
   ]
  },
  {
   "cell_type": "markdown",
   "metadata": {},
   "source": [
    "## Traitement"
   ]
  },
  {
   "cell_type": "markdown",
   "metadata": {},
   "source": [
    "Nous pouvons à présent procéder à la construction de notre algorithme. Nous avons utilisé une classe faisant appel à plusieurs fonctions nous permettant d'aboutir à un vecteur de features que nous pourons par la suite exploiter."
   ]
  },
  {
   "cell_type": "markdown",
   "metadata": {},
   "source": [
    "Nous avons appris que les battements d'un coeur se décomposent en 4 phases et dans l'odre suivant : S1, systole, S2 et diastole. L'image ci-dessous illustre ce point."
   ]
  },
  {
   "cell_type": "markdown",
   "metadata": {},
   "source": [
    "<img src=\"battement.png\", width=600>"
   ]
  },
  {
   "cell_type": "code",
   "execution_count": 12,
   "metadata": {
    "collapsed": true
   },
   "outputs": [],
   "source": [
    "#Nous créons la liste permettant de\n",
    "phases_list = ['S1','S2','systole','diastole']"
   ]
  },
  {
   "cell_type": "markdown",
   "metadata": {},
   "source": [
    "## Plan de la class PCG\n",
    "Nous allons vus présenter, en plus des remarques incorporer dans le code, l'ensemble des fonctions que nous avons crées sont décrites ci-dessous. Nous avons également réalisé des graphiques pour permettre au lecteur de mieux visualiser les différentes étapes dans la partie visualisation.\n",
    "\n",
    "1) init : Normalisation du signal considéré. Nous avons utilisé la formule classique : $$x_{norm} = \\frac{x - \\bar{x}}{ \\sigma_{x} }$$ \n",
    "2) envelogram : Calcul de l'envelogramme du signal auquel on applique un seuil pour débruiter le signal. Nous cherchons à calculer l'envelogramme à partir de l'énergie de Shannon du signal normalisé. L' énergie est calculée grâce à la formule suivante :  $$E = -s(t)^{2}.log(s(t)^{2}) $$ où s(t) est le signal à un moment t  \n",
    "3) consec_count : On compte le nombre de fois qu'il y a une répétition d'une même valeur. Cette fonction sera déterminante pour segmenter les phases cardiaques  \n",
    "4) segmentation : On segmente le signal en différentes phases  \n",
    "5) timelengths : On détermine la durée de chaque phase  \n",
    "6) timefeatures : On extrait les features de durée des phases  \n",
    "7) computeborne : On détermine les bornes de chaque phase dans le vecteur total afin de pouvoir calculer des valeurs sur chaque phase du signal  \n",
    "8) moments : On détermine pour chaque phase le kurtosis et l'asymétrie du signal  \n",
    "9) computeMFCC : \"Mel-frequency cepstral coefficients\" sont dérivés de l'analyse spectral d'un signal audio  \n",
    "10) extractFeatures : On extrait l'ensemble de nos features calculés à partir des fonctions précédentes dans un vecteur par signal traité  \n",
    "\n",
    "Des notes sont présentes dans le code pour accompagner le lecteur dans sa compréhension du code"
   ]
  },
  {
   "cell_type": "code",
   "execution_count": 51,
   "metadata": {
    "collapsed": true
   },
   "outputs": [],
   "source": [
    "class PCG:\n",
    "    \n",
    "    def __init__(self,signal):\n",
    "        self.signal = np.asarray(signal[~np.isnan(signal)]) #on ignore les NaN \n",
    "        self.signal = self.signal - np.mean(self.signal) #on recentre\n",
    "        self.normalized_signal = self.signal/np.std(self.signal)\n",
    "        self.fs = 2000\n",
    "        \n",
    "    def envelogram(self):\n",
    "        E = self.signal\n",
    "        #on remplace les 0 par des petites valeurs (on doit éviter d'avoir un 0 pour calculer les log)\n",
    "        for i in range(self.signal.shape[0]):\n",
    "            if E[i]==0:\n",
    "                E[i] = E[i-1]/10\n",
    "        E = E/np.max(np.abs(E))\n",
    "        #E = E/np.std(E)\n",
    "        E = -1*(E**2) * np.log(E**2)\n",
    "\n",
    "        #on met les petites valeurs à 0 \n",
    "        # il faut d'abord calculer les maximums locaux \n",
    "        window_length = 750\n",
    "        local_max = np.array([np.max(E[i-window_length:i+window_length]) for i in range(window_length,len(E)-window_length)])\n",
    "        local_max = np.concatenate((local_max[0]*np.ones(window_length),local_max,local_max[-1]*np.ones(window_length)))\n",
    "        s = np.std(E)\n",
    "        m = np.mean(E)\n",
    "        mask = E>local_max/5\n",
    "        mask2 = np.abs(E-m)>s/2\n",
    "        mask3 = E>np.mean(E)*2\n",
    "        return E*mask\n",
    "    \n",
    "    \n",
    "    def consec_count(self):\n",
    "        e = self.envelogram()\n",
    "        start = 0\n",
    "        count_mask = []\n",
    "        while  start < len(e): \n",
    "            i = start\n",
    "            current = e[start]\n",
    "            while e[i]==current and i < len(e)-1:\n",
    "                i=i+1\n",
    "            l = int(i - start + 1)\n",
    "            count_mask = np.concatenate((count_mask,l*[l]))\n",
    "            start = i + 1\n",
    "        return count_mask\n",
    "    \n",
    "    def segmentation(self):\n",
    "        E = self.envelogram()\n",
    "        count_vec = self.consec_count() # le vecteur de comptage associé\n",
    "        length_threshold = 50\n",
    "        beat_mask = count_vec<=length_threshold\n",
    "        systole_mask = count_vec>length_threshold\n",
    "        segmentation = np.asarray([])\n",
    "        mean_beat_length = 0\n",
    "        beat_counter = 0\n",
    "        counters = {'S1':0,'S2':0}\n",
    "        i = 0\n",
    "        while i<count_vec.shape[0]:\n",
    "            stop = i \n",
    "            next_stop = i\n",
    "            while stop < count_vec.shape[0] and next_stop-stop<0.050*self.fs:\n",
    "                stop = next_stop\n",
    "                #on calcule la longueur du pic\n",
    "                while stop<count_vec.shape[0] and beat_mask[stop]:\n",
    "                    stop+=1\n",
    "\n",
    "                #on calcule l'écart avec le pic suivant, pour voir s'il s'agit du même pic\n",
    "                next_stop = stop\n",
    "                while next_stop<count_vec.shape[0] and not beat_mask[next_stop]:\n",
    "                    next_stop +=1\n",
    "                \n",
    "            #un battement long est un battement S1\n",
    "            if stop-i>mean_beat_length:\n",
    "                segmentation = np.concatenate((segmentation,np.repeat('S1',stop-i)))\n",
    "                counters['S1'] += 1\n",
    "                current_seq = {'beat':'S1','passive':'systole'}\n",
    "                \n",
    "            #un battement court est un battement S2\n",
    "            else:\n",
    "                segmentation = np.concatenate((segmentation,np.repeat('S2',stop-i)))\n",
    "                counters['S2'] += 1\n",
    "                current_seq = {'beat':'S2','passive':'diastole'}\n",
    "                \n",
    "            #update beat length and parser\n",
    "            mean_beat_length = np.average([stop-i,mean_beat_length],weights=[1,beat_counter])\n",
    "            beat_counter += 1\n",
    "            i = stop\n",
    "                \n",
    "            while stop<count_vec.shape[0] and systole_mask[stop]:\n",
    "                stop+=1\n",
    "                \n",
    "            segmentation = np.concatenate((segmentation,np.repeat(current_seq['passive'],stop-i)))\n",
    "            #update parser\n",
    "            i = stop\n",
    "        \n",
    "        #on supprime tout ce qui est avant la première phase S1: \n",
    "        j = 0 \n",
    "        while segmentation[j]!='S1':\n",
    "            j += 1\n",
    "            \n",
    "        return segmentation[j:],E[j:],j,counters\n",
    "    \n",
    "    \n",
    "    def timeLengths(self,segmentation,phase):\n",
    "        res=[]\n",
    "        start=0\n",
    "        while start<segmentation.shape[0]:\n",
    "            i = start\n",
    "            while i<segmentation.shape[0] and segmentation[i]==phase:\n",
    "                i+=1\n",
    "            res.append(i - start)\n",
    "            start = i + 1\n",
    "        res = np.array(res)[res!=0]\n",
    "        if res.shape[0] == 0:\n",
    "            return 0,0,0\n",
    "        return np.mean(res),np.std(res),res.shape[0]\n",
    "    \n",
    "    def timeFeatures(self,segmentation):\n",
    "        sysRR = [] #rapport durée systole/durée battement\n",
    "        diaRR = [] #rapport durée diastole/durée battement\n",
    "        sysdia = [] # rapport durée systole/durée diastole\n",
    "        start = 0\n",
    "        bound = len(segmentation)\n",
    "        #on commence sur la première phase S1\n",
    "        while segmentation[start]!='S1':\n",
    "            start+=1\n",
    "        #on parcourt toute la segmentation\n",
    "        while start<bound:\n",
    "            parser = start\n",
    "            # on attend d'arriver à la première systole\n",
    "            while parser<bound and segmentation[parser]!='systole':\n",
    "                parser += 1\n",
    "            psys = parser\n",
    "            # on mesure la taille de la systole\n",
    "            while psys<bound and segmentation[psys]=='systole':\n",
    "                psys += 1\n",
    "            systole_length = psys - parser\n",
    "            parser = psys\n",
    "            #on mesure la (les) diastole(s)\n",
    "            diastole_length_list=[]\n",
    "            while parser<bound and segmentation[parser]!='S1': #la fin du cycle est marquée par le début d'un nouveau S1\n",
    "                while parser<bound and segmentation[parser]=='S2':#un S2 précède toujours une diastole\n",
    "                    parser+=1\n",
    "                pd = parser\n",
    "                while pd<bound and segmentation[pd]=='diastole': #on mesure la diastole\n",
    "                    pd += 1\n",
    "                diastole_length_list.append(pd-parser)\n",
    "                parser = pd\n",
    "                \n",
    "            #grandeurs extraites\n",
    "            beat_length = parser - start\n",
    "            sysRR.append(systole_length/beat_length)\n",
    "            diaRR.append(sum(diastole_length_list)/beat_length)\n",
    "            if sum(diastole_length_list)!=0:\n",
    "                sysdia.append(systole_length/sum(diastole_length_list))\n",
    "            #update start\n",
    "            start = parser\n",
    "        sysRR = np.array(sysRR)\n",
    "        diaRR = np.array(diaRR)\n",
    "        sysdia = np.array(sysdia)\n",
    "        \n",
    "        return np.nan_to_num([np.mean(sysRR),np.std(sysRR),np.mean(diaRR),np.std(diaRR),np.mean(sysdia),np.std(sysdia)])\n",
    "   \n",
    "    def computeBorne(self,segmentation):\n",
    "        borne = [0]\n",
    "        \n",
    "        for i in range(1,len(segmentation)-1):\n",
    "            if segmentation[i-1] != segmentation[i]:\n",
    "                borne.append(i)\n",
    "        borne.append(len(segmentation))\n",
    "        return borne \n",
    "    \n",
    "    def moments(self,segmentation,borne,phase,decalage):\n",
    "        phase_skew = []\n",
    "        phase_kurt = []\n",
    "        sig = self.signal[decalage:]\n",
    "        for i in range(0,len(borne)-1):\n",
    "            if segmentation[borne[i]] == phase:\n",
    "                interest_signal = sig[borne[i]:borne[i+1]]\n",
    "                phase_skew.append(skew(interest_signal))\n",
    "                phase_kurt.append(kurtosis(interest_signal))\n",
    "        if len(phase_skew) == 0:#cas d'erreur\n",
    "            return 0,0,0,0\n",
    "        return np.array([np.mean(phase_skew),np.std(phase_skew),np.mean(phase_kurt),np.std(phase_kurt)])\n",
    "    \n",
    "    def computeMFCC(self,segmentation,borne,phase,decalage):\n",
    "        mfcc_matrix = np.zeros(10)\n",
    "        sig = self.signal[decalage:]\n",
    "        boolean = False\n",
    "        for i in range(0,len(borne)-1):\n",
    "            if segmentation[borne[i]] == phase:\n",
    "                boolean = True\n",
    "                interest_signal = sig[borne[i]:borne[i+1]]\n",
    "                mfccs = mfcc(interest_signal,sr=2000,n_mfcc=10)\n",
    "                mfcc_matrix = np.row_stack((mfcc_matrix,np.mean(mfccs,axis=1)))\n",
    "        if not boolean:#cas d'erreur\n",
    "            return np.zeros(10)\n",
    "        \n",
    "        return  np.mean(mfcc_matrix[1:],axis=0)\n",
    "        \n",
    "    def extractFeatures(self):\n",
    "        segmentation, E,decalage,counters = self.segmentation()\n",
    "        #ratio nombre de S1 par rapport au nombre de S2\n",
    "        if counters['S2']!=0:\n",
    "            features = np.array([counters['S1']/counters['S2']])\n",
    "        else: #cas d'erreur\n",
    "            features = np.zeros(1)\n",
    "        \n",
    "        #time features\n",
    "        to_compute_ratio = []\n",
    "        for phase in phases_list:\n",
    "            mean,std,last = self.timeLengths(segmentation,phase)\n",
    "            if phase == 'systole' or phase == 'diastole': #on aura en premier la systole \n",
    "                to_compute_ratio.append(last)\n",
    "            features = np.append(features,[mean,std])\n",
    "        features = np.append(features,np.nan_to_num(to_compute_ratio[0]/to_compute_ratio[1])) #durée de la systole sur la diastole\n",
    "        mean_sysRR, std_sysRR,mean_diaRR, std_diaRR,mean_sysdia, std_sysdia = self.timeFeatures(segmentation)\n",
    "        features = np.concatenate((features,[mean_sysRR, std_sysRR,mean_diaRR, std_diaRR,mean_sysdia, std_sysdia]))\n",
    "        \n",
    "        #calcul des bornes    \n",
    "        p_S1 = []\n",
    "        p_S2 = []\n",
    "        borne = self.computeBorne(segmentation)\n",
    "        \n",
    "        #Skewness et Kurtosis\n",
    "        for phase in phases_list:\n",
    "            features = np.concatenate((features,self.moments(segmentation,borne,phase,decalage)))\n",
    "        \n",
    "        #mean12 feature\n",
    "        features = np.append(features,max(features[2],features[5]))\n",
    "        \n",
    "        #Rapport d'amplitudes\n",
    "        sig = self.signal[decalage:]\n",
    "        amp_sys_s1 = []\n",
    "        amp_dia_s2 = []\n",
    "        \n",
    "        for i in range(0,len(borne)-2):\n",
    "            if (segmentation[borne[i]] == 'S1') & (segmentation[borne[i+1]] == 'systole') & (borne[i+2] != 0):\n",
    "                amp_sys_s1.append(max(sig[borne[i+1]:borne[i+2]]) - min(sig[borne[i+1]:borne[i+2]])/max(sig[borne[i]:borne[i+1]]) - min(sig[borne[i]:borne[i+1]]))\n",
    "            else :\n",
    "                pass\n",
    "        for i in range(0,len(borne)-2):\n",
    "            if (segmentation[borne[i]] == 'S2') & (segmentation[borne[i+1]] == 'diastole') & (borne[i+2] != 0):\n",
    "                amp_dia_s2.append(max(sig[borne[i+1]:borne[i+2]]) - min(sig[borne[i+1]:borne[i+2]])/max(sig[borne[i]:borne[i+1]]) - min(sig[borne[i]:borne[i+1]]) )\n",
    "            else :\n",
    "                pass\n",
    "        if len(amp_sys_s1)==0:\n",
    "            features = np.append(features,[0,0])\n",
    "        else: \n",
    "            features = np.append(features,[np.mean(amp_sys_s1),np.std(amp_sys_s1)])\n",
    "        if len(amp_dia_s2)==0:\n",
    "            features = np.append(features,[0,0])\n",
    "        else:\n",
    "            features = np.append(features,[np.mean(amp_dia_s2),np.std(amp_dia_s2)])\n",
    "\n",
    "        #spectral features\n",
    "        frequency_bands = np.array([0,25,40,60,90,120,160,250,400])\n",
    "        freqs, psd = welch(self.signal[decalage:],fs=2000)\n",
    "        freqs, psd = np.asarray(freqs),np.asarray(psd)\n",
    "        band_spectral_power = []\n",
    "        for i in range(frequency_bands.shape[0]-1):\n",
    "            mask = [freqs<frequency_bands[i+1]] and [freqs>frequency_bands[i]]\n",
    "            band_spectral_power.append(np.sum(psd[mask]**2))\n",
    "        features = np.append(features,band_spectral_power)\n",
    "        \n",
    "        #MFCC features\n",
    "        for phase in phases_list:\n",
    "            features = np.concatenate((features,self.computeMFCC(segmentation,borne,phase,decalage)))\n",
    "        \n",
    "        return features"
   ]
  },
  {
   "cell_type": "markdown",
   "metadata": {},
   "source": [
    "# Visualisation"
   ]
  },
  {
   "cell_type": "markdown",
   "metadata": {},
   "source": [
    "Cette partie propose au lecteur une visualisation graphique des fonctions majeures qui nous ont permis d'extraire des variables exploitables dans un modèle prédictif. Nous avons décidé de prendre un signal au hasard mais la même méthode est appliqué à chaque signal considéré"
   ]
  },
  {
   "cell_type": "code",
   "execution_count": 203,
   "metadata": {
    "collapsed": false
   },
   "outputs": [
    {
     "data": {
      "image/png": "[encoded data removed]",
      "text/plain": [
       "<matplotlib.figure.Figure at 0x23237a96978>"
      ]
     },
     "metadata": {},
     "output_type": "display_data"
    },
    {
     "data": {
      "image/png": "[encoded data removed]",
      "text/plain": [
       "<matplotlib.figure.Figure at 0x23244523c18>"
      ]
     },
     "metadata": {},
     "output_type": "display_data"
    },
    {
     "data": {
      "image/png": "[encoded data removed]",
      "text/plain": [
       "<matplotlib.figure.Figure at 0x23243313390>"
      ]
     },
     "metadata": {},
     "output_type": "display_data"
    },
    {
     "data": {
      "image/png": "[encoded data removed]",
      "text/plain": [
       "<matplotlib.figure.Figure at 0x23243045f98>"
      ]
     },
     "metadata": {},
     "output_type": "display_data"
    },
    {
     "data": {
      "image/png": "[encoded data removed]",
      "text/plain": [
       "<matplotlib.figure.Figure at 0x232447225c0>"
      ]
     },
     "metadata": {},
     "output_type": "display_data"
    }
   ],
   "source": [
    "signal =  train[87][:time_length]\n",
    "pcg = PCG(signal)\n",
    "e = pcg.envelogram()\n",
    "c = pcg.consec_count()\n",
    "segmentation,e,lag,t = pcg.segmentation()\n",
    "l = time_length-lag\n",
    "x = np.linspace(0,l/2000,l)\n",
    "\n",
    "fig = plt.subplots(nrows=5, ncols=1)\n",
    "\n",
    "ax1 = plt.subplot()\n",
    "ax1.plot(x,signal, label = \"Valeur du signal\")\n",
    "ax1.set_title(\"Signal brut\")\n",
    "ax1.legend()\n",
    "plt.show()\n",
    "ax2 = plt.subplot()\n",
    "ax2.plot(x,e, label = \"Valeur de l'envelogramme\")\n",
    "ax2.set_title(\"Envelogramme normalisé calculé à partir de l'énergie de Shannon\")\n",
    "ax2.legend()\n",
    "plt.show()\n",
    "ax3 = plt.subplot()\n",
    "ax3.plot(x,c, label = \"Nombres consécutifs\")\n",
    "ax3.set_title(\"Nombre consécutif de la même valeur\")\n",
    "ax3.legend()\n",
    "plt.show()\n",
    "ax4 = plt.subplot()\n",
    "ax4.plot(signal, label = \"Signal non traité\")\n",
    "ax4.vlines(b,-4000,6000, colors='g', label = 'borne des signaux')\n",
    "ax4.set_title(\"Borne de chaque phase du signal\")\n",
    "ax4.legend()\n",
    "plt.show()\n",
    "\n",
    "ax5 = plt.subplot()\n",
    "ax5.fill_between(x,0,1,where = segmentation=='S1',facecolor='r',alpha=.3,label='S1')\n",
    "ax5.fill_between(x,0,1,where = segmentation=='S2',facecolor='r',alpha=.1,label='S2')\n",
    "ax5.fill_between(x,0,1,where = segmentation=='systole',facecolor='b',alpha=.3,label='systole')\n",
    "ax5.fill_between(x,0,1,where = segmentation=='diastole',facecolor='b',alpha=.1,label='diastole')\n",
    "ax5.set_title(\"Segmentation finale\")\n",
    "ax5.plot(x,E/np.max(E),'k',label='signal')\n",
    "ax5.legend()\n",
    "plt.show()\n"
   ]
  },
  {
   "cell_type": "markdown",
   "metadata": {},
   "source": [
    "## Test MFCC"
   ]
  },
  {
   "cell_type": "code",
   "execution_count": null,
   "metadata": {
    "collapsed": true
   },
   "outputs": [],
   "source": [
    "features = np.zeros(20)\n",
    "for i in range(train.shape[0]):\n",
    "    sample = train[i]\n",
    "    pcg = PCG(sample)\n",
    "    segmentation,\n",
    "    mfccs = mfcc(sample,n_mfcc=20,sr=2000)\n",
    "    features = np.row_stack((features,np.min(mfccs,axis=1)))\n",
    "features = features[1:]"
   ]
  },
  {
   "cell_type": "code",
   "execution_count": null,
   "metadata": {
    "collapsed": false
   },
   "outputs": [],
   "source": [
    "fig = plt.figure(figsize=(14,20))\n",
    "for i in range(20):\n",
    "    ax = fig.add_subplot(10,2,i+1)\n",
    "    tho = features[:,i]\n",
    "    ax.hist(tho[labels==1],density=True,alpha=0.5,color='b')\n",
    "    ax.hist(tho[labels==-1],density=True,alpha=0.5,color='r')"
   ]
  },
  {
   "cell_type": "markdown",
   "metadata": {},
   "source": [
    "# Analyse des features\n",
    "\n",
    "Cette partie s'articule en deux parties. Nous allons tout d'abord appliquer nos fonctions à l'ensemble des signaux afin de pouvoir en extraire les features. Par la suite nous présenterons les distributions de nos features selon la catégorie de coeur considérée. La fonction extractFeatures() nous permet de constituer notre vecteur de feature par signaux. Nous présentons, pour information, une liste exhautive des features que nous avons pris en compte selon leur catégorie :  \n",
    "- variables temporelles : la moyenne et l'écart-type de la durée de chacune des phases au cours du signal, le maximum entre le temps moyenne de la diastole et de la systole, la moyenne et l'écart-type du ratio de la durée entre la systole et le temps d'un cycle cardiaque, entre la diastole et un cycle cardiaque et entre la systole et la diastole.  \n",
    "\n",
    "- variables fréquentistes : La moyenne et l'écart-type du rapport d'amplitude entre la systole et S1 et entre la diastole et la S2.\n",
    "\n",
    "- variables spectralles : \n",
    "\n",
    "- variables MFCC :\n",
    "\n",
    "- l'asymétrie et l'aplatissement du signal pour chaque phase ont également été pris en compte\n",
    "\n",
    "L'analyse de feature va nous permettre de déterminer le lien entre les variables que nous avons réussi à dégager et l'anomalie cardiaque. Nous allons, à travers des graphiques et statistiques descriptives, prendre connaissance des features qui pourraient jouer un rôle dans la détection de battements anormaux. De plus, la comparaison entre les deux catégories de coeur nous permet d'avoir un retour supplémentaire sur la qualité de notre segmentation. En autre, si nous arrivons à constater des distributions différents pour une feature donnée entre un coeur qui bat normalement et un coeur malade, nous pourrons penser que notre segmentation est relativement réussie."
   ]
  },
  {
   "cell_type": "code",
   "execution_count": null,
   "metadata": {
    "collapsed": false
   },
   "outputs": [],
   "source": [
    "start = time.time()\n",
    "sample = train[408]\n",
    "pcg = PCG(sample)\n",
    "ft = pcg.extractFeatures()\n",
    "end = time.time()\n",
    "print(end-start)\n",
    "ft.shape"
   ]
  },
  {
   "cell_type": "code",
   "execution_count": null,
   "metadata": {
    "collapsed": true
   },
   "outputs": [],
   "source": [
    "n_samples = train.shape[0]"
   ]
  },
  {
   "cell_type": "code",
   "execution_count": null,
   "metadata": {
    "collapsed": false
   },
   "outputs": [],
   "source": [
    "print(n_samples)"
   ]
  },
  {
   "cell_type": "code",
   "execution_count": null,
   "metadata": {
    "collapsed": false
   },
   "outputs": [],
   "source": [
    "X = np.zeros(85)\n",
    "final_labels = []\n",
    "for i in range(n_samples):\n",
    "    try:\n",
    "        sample = dataset[i]\n",
    "        pcg = PCG(sample)\n",
    "        ft = pcg.extractFeatures()\n",
    "        X = np.row_stack((X,ft))\n",
    "        final_labels.append(labels[i])\n",
    "        \n",
    "    except:\n",
    "        print('il y a une erreur avec le sample %d'%i)\n",
    "X = X[1:]"
   ]
  },
  {
   "cell_type": "code",
   "execution_count": null,
   "metadata": {
    "collapsed": true
   },
   "outputs": [],
   "source": [
    "np.save('features.npy',X)"
   ]
  },
  {
   "cell_type": "code",
   "execution_count": 206,
   "metadata": {
    "collapsed": false
   },
   "outputs": [
    {
     "ename": "ValueError",
     "evalue": "num must be 1 <= num <= 51, not 52",
     "output_type": "error",
     "traceback": [
      "\u001b[0;31m---------------------------------------------------------------------------\u001b[0m",
      "\u001b[0;31mValueError\u001b[0m                                Traceback (most recent call last)",
      "\u001b[0;32m<ipython-input-206-da0db349d166>\u001b[0m in \u001b[0;36m<module>\u001b[0;34m()\u001b[0m\n\u001b[1;32m      3\u001b[0m \u001b[0mfinal_labels\u001b[0m \u001b[1;33m=\u001b[0m \u001b[0mnp\u001b[0m\u001b[1;33m.\u001b[0m\u001b[0marray\u001b[0m\u001b[1;33m(\u001b[0m\u001b[0mlabels\u001b[0m\u001b[1;33m)\u001b[0m\u001b[1;33m\u001b[0m\u001b[1;33m\u001b[0m\u001b[0m\n\u001b[1;32m      4\u001b[0m \u001b[1;32mfor\u001b[0m \u001b[0mi\u001b[0m \u001b[1;32min\u001b[0m \u001b[0mrange\u001b[0m\u001b[1;33m(\u001b[0m\u001b[1;36m85\u001b[0m\u001b[1;33m)\u001b[0m\u001b[1;33m:\u001b[0m\u001b[1;33m\u001b[0m\u001b[1;33m\u001b[0m\u001b[0m\n\u001b[0;32m----> 5\u001b[0;31m     \u001b[0max\u001b[0m \u001b[1;33m=\u001b[0m \u001b[0mfig\u001b[0m\u001b[1;33m.\u001b[0m\u001b[0madd_subplot\u001b[0m\u001b[1;33m(\u001b[0m\u001b[1;36m17\u001b[0m\u001b[1;33m,\u001b[0m\u001b[1;36m3\u001b[0m\u001b[1;33m,\u001b[0m\u001b[0mi\u001b[0m\u001b[1;33m+\u001b[0m\u001b[1;36m1\u001b[0m\u001b[1;33m)\u001b[0m\u001b[1;33m\u001b[0m\u001b[1;33m\u001b[0m\u001b[0m\n\u001b[0m\u001b[1;32m      6\u001b[0m     \u001b[0mft\u001b[0m \u001b[1;33m=\u001b[0m \u001b[0mX\u001b[0m\u001b[1;33m[\u001b[0m\u001b[1;33m:\u001b[0m\u001b[1;33m,\u001b[0m\u001b[0mi\u001b[0m\u001b[1;33m]\u001b[0m\u001b[1;33m\u001b[0m\u001b[1;33m\u001b[0m\u001b[0m\n\u001b[1;32m      7\u001b[0m     \u001b[1;31m#print(ft)\u001b[0m\u001b[1;33m\u001b[0m\u001b[1;33m\u001b[0m\u001b[1;33m\u001b[0m\u001b[0m\n",
      "\u001b[0;32mC:\\Users\\benoit\\Anaconda3\\lib\\site-packages\\matplotlib\\figure.py\u001b[0m in \u001b[0;36madd_subplot\u001b[0;34m(self, *args, **kwargs)\u001b[0m\n\u001b[1;32m   1018\u001b[0m                     \u001b[0mself\u001b[0m\u001b[1;33m.\u001b[0m\u001b[0m_axstack\u001b[0m\u001b[1;33m.\u001b[0m\u001b[0mremove\u001b[0m\u001b[1;33m(\u001b[0m\u001b[0max\u001b[0m\u001b[1;33m)\u001b[0m\u001b[1;33m\u001b[0m\u001b[1;33m\u001b[0m\u001b[0m\n\u001b[1;32m   1019\u001b[0m \u001b[1;33m\u001b[0m\u001b[0m\n\u001b[0;32m-> 1020\u001b[0;31m             \u001b[0ma\u001b[0m \u001b[1;33m=\u001b[0m \u001b[0msubplot_class_factory\u001b[0m\u001b[1;33m(\u001b[0m\u001b[0mprojection_class\u001b[0m\u001b[1;33m)\u001b[0m\u001b[1;33m(\u001b[0m\u001b[0mself\u001b[0m\u001b[1;33m,\u001b[0m \u001b[1;33m*\u001b[0m\u001b[0margs\u001b[0m\u001b[1;33m,\u001b[0m \u001b[1;33m**\u001b[0m\u001b[0mkwargs\u001b[0m\u001b[1;33m)\u001b[0m\u001b[1;33m\u001b[0m\u001b[1;33m\u001b[0m\u001b[0m\n\u001b[0m\u001b[1;32m   1021\u001b[0m \u001b[1;33m\u001b[0m\u001b[0m\n\u001b[1;32m   1022\u001b[0m         \u001b[0mself\u001b[0m\u001b[1;33m.\u001b[0m\u001b[0m_axstack\u001b[0m\u001b[1;33m.\u001b[0m\u001b[0madd\u001b[0m\u001b[1;33m(\u001b[0m\u001b[0mkey\u001b[0m\u001b[1;33m,\u001b[0m \u001b[0ma\u001b[0m\u001b[1;33m)\u001b[0m\u001b[1;33m\u001b[0m\u001b[1;33m\u001b[0m\u001b[0m\n",
      "\u001b[0;32mC:\\Users\\benoit\\Anaconda3\\lib\\site-packages\\matplotlib\\axes\\_subplots.py\u001b[0m in \u001b[0;36m__init__\u001b[0;34m(self, fig, *args, **kwargs)\u001b[0m\n\u001b[1;32m     62\u001b[0m                     raise ValueError(\n\u001b[1;32m     63\u001b[0m                         \"num must be 1 <= num <= {maxn}, not {num}\".format(\n\u001b[0;32m---> 64\u001b[0;31m                             maxn=rows*cols, num=num))\n\u001b[0m\u001b[1;32m     65\u001b[0m                 \u001b[0mself\u001b[0m\u001b[1;33m.\u001b[0m\u001b[0m_subplotspec\u001b[0m \u001b[1;33m=\u001b[0m \u001b[0mGridSpec\u001b[0m\u001b[1;33m(\u001b[0m\u001b[0mrows\u001b[0m\u001b[1;33m,\u001b[0m \u001b[0mcols\u001b[0m\u001b[1;33m)\u001b[0m\u001b[1;33m[\u001b[0m\u001b[0mint\u001b[0m\u001b[1;33m(\u001b[0m\u001b[0mnum\u001b[0m\u001b[1;33m)\u001b[0m \u001b[1;33m-\u001b[0m \u001b[1;36m1\u001b[0m\u001b[1;33m]\u001b[0m\u001b[1;33m\u001b[0m\u001b[1;33m\u001b[0m\u001b[0m\n\u001b[1;32m     66\u001b[0m                 \u001b[1;31m# num - 1 for converting from MATLAB to python indexing\u001b[0m\u001b[1;33m\u001b[0m\u001b[1;33m\u001b[0m\u001b[1;33m\u001b[0m\u001b[0m\n",
      "\u001b[0;31mValueError\u001b[0m: num must be 1 <= num <= 51, not 52"
     ]
    }
   ],
   "source": [
    "fig = plt.figure(figsize=(14,35))\n",
    "X = np.asarray(X)\n",
    "final_labels = np.array(labels)\n",
    "for i in range(85):\n",
    "    ax = fig.add_subplot(17,3,i+1)\n",
    "    ft = X[:,i]\n",
    "    #print(ft)\n",
    "    normalft = ft[final_labels==1]\n",
    "    anormalft = ft[final_labels==-1]\n",
    "    ax.hist(normalft,density=True,color='b',alpha=0.5)\n",
    "    ax.hist(anormalft,density=True,color='r',alpha=0.5)\n",
    "    ax.show()"
   ]
  },
  {
   "cell_type": "markdown",
   "metadata": {},
   "source": [
    "# Classification\n",
    "Dans cette partie, nous allons appliquer des algorithmes de Machine Learning à nos features afin de détecter si un coeur est malade ou non\n",
    "Dans la mesure où notre problème est un cas de classification, nous avons considéré plusieurs modèles. Nos modèles benchmark sont le modèle qui prédit qu'un coeur est toujours normal ainsi que le modèle Logit. Par la suite, nous partirons d'un Random Forest et d'un SVM afin d'élaborer un modèle prédictif optimal."
   ]
  },
  {
   "cell_type": "code",
   "execution_count": 83,
   "metadata": {
    "collapsed": false
   },
   "outputs": [],
   "source": [
    "from sklearn.ensemble import RandomForestClassifier\n",
    "from sklearn.model_selection import cross_val_score, train_test_split\n",
    "from sklearn.svm import SVC\n",
    "from sklearn.neural_network import MLPClassifier\n",
    "from sklearn.decomposition import PCA\n",
    "from sklearn.linear_model import LogisticRegression\n",
    "from sklearn.metrics import confusion_matrix,recall_score\n",
    "from sklearn.preprocessing import normalize\n",
    "import numpy as np"
   ]
  },
  {
   "cell_type": "code",
   "execution_count": 71,
   "metadata": {
    "collapsed": false
   },
   "outputs": [],
   "source": [
    "from sklearn.preprocessing import normalize\n",
    "from sklearn.tree import DecisionTreeClassifier\n",
    "from sklearn.ensemble import GradientBoostingClassifier\n",
    "import cma"
   ]
  },
  {
   "cell_type": "code",
   "execution_count": 85,
   "metadata": {
    "collapsed": true
   },
   "outputs": [],
   "source": [
    "np.random.seed(0)"
   ]
  },
  {
   "cell_type": "code",
   "execution_count": 207,
   "metadata": {
    "collapsed": false
   },
   "outputs": [],
   "source": [
    "out = np.load('C:\\\\Users\\\\benoit\\\\Desktop\\\\ENS\\\\ENSAE\\\\2A\\\\S1\\\\Python\\\\Projet\\\\temp\\\\features_ab.npz')"
   ]
  },
  {
   "cell_type": "code",
   "execution_count": 208,
   "metadata": {
    "collapsed": false
   },
   "outputs": [],
   "source": [
    "X,labels = out['arr_0'],out['arr_1']"
   ]
  },
  {
   "cell_type": "code",
   "execution_count": 75,
   "metadata": {
    "collapsed": false
   },
   "outputs": [],
   "source": [
    "pca = PCA(n_components = 2)\n",
    "X_red = pca.fit_transform(X)"
   ]
  },
  {
   "cell_type": "code",
   "execution_count": 76,
   "metadata": {
    "collapsed": true
   },
   "outputs": [],
   "source": [
    "pca = PCA(n_components = 20)"
   ]
  },
  {
   "cell_type": "code",
   "execution_count": 77,
   "metadata": {
    "collapsed": true
   },
   "outputs": [],
   "source": [
    "X_norm = normalize(X)"
   ]
  },
  {
   "cell_type": "code",
   "execution_count": 78,
   "metadata": {
    "collapsed": true
   },
   "outputs": [],
   "source": [
    "xtrain,xtest,ytrain,ytest = train_test_split(X,labels,test_size = 0.3)\n",
    "xtrain_red = pca.fit_transform(xtrain)\n",
    "xtest_red = pca.transform(xtest)"
   ]
  },
  {
   "cell_type": "code",
   "execution_count": 79,
   "metadata": {
    "collapsed": false
   },
   "outputs": [
    {
     "data": {
      "text/plain": [
       "0.5074074074074074"
      ]
     },
     "execution_count": 79,
     "metadata": {},
     "output_type": "execute_result"
    }
   ],
   "source": [
    "#recall standard\n",
    "np.sum(ytest==-1)/ytest.shape[0]"
   ]
  },
  {
   "cell_type": "code",
   "execution_count": 210,
   "metadata": {
    "collapsed": false
   },
   "outputs": [
    {
     "ename": "ValueError",
     "evalue": "Found input variables with inconsistent numbers of samples: [628, 449]",
     "output_type": "error",
     "traceback": [
      "\u001b[0;31m---------------------------------------------------------------------------\u001b[0m",
      "\u001b[0;31mValueError\u001b[0m                                Traceback (most recent call last)",
      "\u001b[0;32m<ipython-input-210-585a539cdf89>\u001b[0m in \u001b[0;36m<module>\u001b[0;34m()\u001b[0m\n\u001b[1;32m      4\u001b[0m \u001b[0mgradb\u001b[0m \u001b[1;33m=\u001b[0m \u001b[0mGradientBoostingClassifier\u001b[0m\u001b[1;33m(\u001b[0m\u001b[0mlearning_rate\u001b[0m\u001b[1;33m=\u001b[0m\u001b[1;36m0.1\u001b[0m\u001b[1;33m,\u001b[0m\u001b[0mn_estimators\u001b[0m\u001b[1;33m=\u001b[0m\u001b[1;36m100\u001b[0m\u001b[1;33m,\u001b[0m\u001b[0mmax_depth\u001b[0m\u001b[1;33m=\u001b[0m\u001b[1;32mNone\u001b[0m\u001b[1;33m)\u001b[0m\u001b[1;33m\u001b[0m\u001b[1;33m\u001b[0m\u001b[0m\n\u001b[1;32m      5\u001b[0m \u001b[1;32mfor\u001b[0m \u001b[0mclf\u001b[0m \u001b[1;32min\u001b[0m \u001b[1;33m[\u001b[0m\u001b[0mlogit\u001b[0m\u001b[1;33m,\u001b[0m\u001b[0mgradb\u001b[0m\u001b[1;33m,\u001b[0m\u001b[0mrf\u001b[0m\u001b[1;33m]\u001b[0m\u001b[1;33m:\u001b[0m\u001b[1;33m\u001b[0m\u001b[1;33m\u001b[0m\u001b[0m\n\u001b[0;32m----> 6\u001b[0;31m     \u001b[0mclf\u001b[0m\u001b[1;33m.\u001b[0m\u001b[0mfit\u001b[0m\u001b[1;33m(\u001b[0m\u001b[0mxtrain_red\u001b[0m\u001b[1;33m,\u001b[0m\u001b[0mytrain\u001b[0m\u001b[1;33m)\u001b[0m\u001b[1;33m\u001b[0m\u001b[1;33m\u001b[0m\u001b[0m\n\u001b[0m\u001b[1;32m      7\u001b[0m     \u001b[0mprint\u001b[0m\u001b[1;33m(\u001b[0m\u001b[0mrecall_score\u001b[0m\u001b[1;33m(\u001b[0m\u001b[0mytest\u001b[0m\u001b[1;33m,\u001b[0m\u001b[0mclf\u001b[0m\u001b[1;33m.\u001b[0m\u001b[0mpredict\u001b[0m\u001b[1;33m(\u001b[0m\u001b[0mxtest_red\u001b[0m\u001b[1;33m)\u001b[0m\u001b[1;33m,\u001b[0m\u001b[0mpos_label\u001b[0m\u001b[1;33m=\u001b[0m\u001b[1;33m-\u001b[0m\u001b[1;36m1\u001b[0m\u001b[1;33m,\u001b[0m\u001b[0maverage\u001b[0m\u001b[1;33m=\u001b[0m\u001b[1;34m'binary'\u001b[0m\u001b[1;33m)\u001b[0m\u001b[1;33m)\u001b[0m\u001b[1;33m\u001b[0m\u001b[1;33m\u001b[0m\u001b[0m\n",
      "\u001b[0;32mC:\\Users\\benoit\\Anaconda3\\lib\\site-packages\\sklearn\\linear_model\\logistic.py\u001b[0m in \u001b[0;36mfit\u001b[0;34m(self, X, y, sample_weight)\u001b[0m\n\u001b[1;32m   1171\u001b[0m \u001b[1;33m\u001b[0m\u001b[0m\n\u001b[1;32m   1172\u001b[0m         X, y = check_X_y(X, y, accept_sparse='csr', dtype=np.float64,\n\u001b[0;32m-> 1173\u001b[0;31m                          order=\"C\")\n\u001b[0m\u001b[1;32m   1174\u001b[0m         \u001b[0mcheck_classification_targets\u001b[0m\u001b[1;33m(\u001b[0m\u001b[0my\u001b[0m\u001b[1;33m)\u001b[0m\u001b[1;33m\u001b[0m\u001b[1;33m\u001b[0m\u001b[0m\n\u001b[1;32m   1175\u001b[0m         \u001b[0mself\u001b[0m\u001b[1;33m.\u001b[0m\u001b[0mclasses_\u001b[0m \u001b[1;33m=\u001b[0m \u001b[0mnp\u001b[0m\u001b[1;33m.\u001b[0m\u001b[0munique\u001b[0m\u001b[1;33m(\u001b[0m\u001b[0my\u001b[0m\u001b[1;33m)\u001b[0m\u001b[1;33m\u001b[0m\u001b[1;33m\u001b[0m\u001b[0m\n",
      "\u001b[0;32mC:\\Users\\benoit\\Anaconda3\\lib\\site-packages\\sklearn\\utils\\validation.py\u001b[0m in \u001b[0;36mcheck_X_y\u001b[0;34m(X, y, accept_sparse, dtype, order, copy, force_all_finite, ensure_2d, allow_nd, multi_output, ensure_min_samples, ensure_min_features, y_numeric, warn_on_dtype, estimator)\u001b[0m\n\u001b[1;32m    529\u001b[0m         \u001b[0my\u001b[0m \u001b[1;33m=\u001b[0m \u001b[0my\u001b[0m\u001b[1;33m.\u001b[0m\u001b[0mastype\u001b[0m\u001b[1;33m(\u001b[0m\u001b[0mnp\u001b[0m\u001b[1;33m.\u001b[0m\u001b[0mfloat64\u001b[0m\u001b[1;33m)\u001b[0m\u001b[1;33m\u001b[0m\u001b[1;33m\u001b[0m\u001b[0m\n\u001b[1;32m    530\u001b[0m \u001b[1;33m\u001b[0m\u001b[0m\n\u001b[0;32m--> 531\u001b[0;31m     \u001b[0mcheck_consistent_length\u001b[0m\u001b[1;33m(\u001b[0m\u001b[0mX\u001b[0m\u001b[1;33m,\u001b[0m \u001b[0my\u001b[0m\u001b[1;33m)\u001b[0m\u001b[1;33m\u001b[0m\u001b[1;33m\u001b[0m\u001b[0m\n\u001b[0m\u001b[1;32m    532\u001b[0m \u001b[1;33m\u001b[0m\u001b[0m\n\u001b[1;32m    533\u001b[0m     \u001b[1;32mreturn\u001b[0m \u001b[0mX\u001b[0m\u001b[1;33m,\u001b[0m \u001b[0my\u001b[0m\u001b[1;33m\u001b[0m\u001b[1;33m\u001b[0m\u001b[0m\n",
      "\u001b[0;32mC:\\Users\\benoit\\Anaconda3\\lib\\site-packages\\sklearn\\utils\\validation.py\u001b[0m in \u001b[0;36mcheck_consistent_length\u001b[0;34m(*arrays)\u001b[0m\n\u001b[1;32m    179\u001b[0m     \u001b[1;32mif\u001b[0m \u001b[0mlen\u001b[0m\u001b[1;33m(\u001b[0m\u001b[0muniques\u001b[0m\u001b[1;33m)\u001b[0m \u001b[1;33m>\u001b[0m \u001b[1;36m1\u001b[0m\u001b[1;33m:\u001b[0m\u001b[1;33m\u001b[0m\u001b[1;33m\u001b[0m\u001b[0m\n\u001b[1;32m    180\u001b[0m         raise ValueError(\"Found input variables with inconsistent numbers of\"\n\u001b[0;32m--> 181\u001b[0;31m                          \" samples: %r\" % [int(l) for l in lengths])\n\u001b[0m\u001b[1;32m    182\u001b[0m \u001b[1;33m\u001b[0m\u001b[0m\n\u001b[1;32m    183\u001b[0m \u001b[1;33m\u001b[0m\u001b[0m\n",
      "\u001b[0;31mValueError\u001b[0m: Found input variables with inconsistent numbers of samples: [628, 449]"
     ]
    }
   ],
   "source": [
    "rf = RandomForestClassifier(n_estimators=100,max_depth=None)\n",
    "svm = SVC(C=100,gamma=100)\n",
    "logit = LogisticRegression()\n",
    "gradb = GradientBoostingClassifier(learning_rate=0.1,n_estimators=100,max_depth=None)\n",
    "for clf in [logit,gradb,rf]:\n",
    "    clf.fit(xtrain_red,ytrain)\n",
    "    print(recall_score(ytest,clf.predict(xtest_red),pos_label=-1,average='binary'))"
   ]
  },
  {
   "cell_type": "code",
   "execution_count": 211,
   "metadata": {
    "collapsed": false
   },
   "outputs": [
    {
     "data": {
      "text/plain": [
       "0.44097995545657015"
      ]
     },
     "execution_count": 211,
     "metadata": {},
     "output_type": "execute_result"
    }
   ],
   "source": [
    "np.sum(final_labels==1)/len(final_labels)"
   ]
  },
  {
   "cell_type": "markdown",
   "metadata": {},
   "source": [
    "## Hypertuning parameters"
   ]
  },
  {
   "cell_type": "code",
   "execution_count": null,
   "metadata": {
    "collapsed": false
   },
   "outputs": [],
   "source": [
    "def objective_functionGB(n_estimators,max_depth,learning_rate,max_features):\n",
    "    model = GradientBoostingClassifier(n_estimators=n_estimators,\n",
    "                                       learning_rate=learning_rate,\n",
    "                                       max_depth=max_depth,\n",
    "                                       max_features=max_features)\n",
    "    model.fit(xtrain_red,ytrain)\n",
    "    return recall_score(ytest,model.predict(xtest_red),pos_label=-1,average='binary')"
   ]
  },
  {
   "cell_type": "code",
   "execution_count": null,
   "metadata": {
    "collapsed": false
   },
   "outputs": [],
   "source": [
    "opt = cma.fmin(objective_function=objective_functionGB,\n",
    "               x0=[100,2,0.1,10],\n",
    "               sigma0=0.1,\n",
    "               )"
   ]
  },
  {
   "cell_type": "code",
   "execution_count": null,
   "metadata": {
    "collapsed": true
   },
   "outputs": [],
   "source": []
  },
  {
   "cell_type": "markdown",
   "metadata": {},
   "source": [
    "# Conclusion\n",
    "Bof  \n",
    "Critiques ?  \n",
    "Ouverture ?"
   ]
  },
  {
   "cell_type": "markdown",
   "metadata": {
    "collapsed": true
   },
   "source": [
    "## Bibliographie"
   ]
  },
  {
   "cell_type": "markdown",
   "metadata": {},
   "source": [
    "Moukadem, A. (2011). Segmentation et classification des signaux non-stationnaires: application au traitement des sons cardiaque et à l'aide au diagnostic (Doctoral dissertation, Université de Haute Alsace-Mulhouse).\n",
    "\n",
    "Liang, H., Lukkarinen, S., & Hartimo, I. (1997, September). Heart sound segmentation algorithm based on heart sound envelogram. In Computers in Cardiology 1997 (pp. 105-108). IEEE.\n",
    "\n",
    "Safara, F., Doraisamy, S., Azman, A., Jantan, A., & Ramaiah, A. R. A. (2013). Multi-level basis selection of wavelet packet decomposition tree for heart sound classification. Computers in biology and medicine, 43(10), 1407-1414.\n",
    "\n",
    "Singh, M., & Cheema, A. (2013). Heart sounds classification using feature extraction of phonocardiography signal. International Journal of Computer Applications, 77(4).\n",
    "\n",
    "Atbi, A., & Debbal, S. M. (2013). Segmentation of pathological signals phonocardiogram by using the Shannon energy envelogram. AJCM, 2(1), 1-14."
   ]
  }
 ],
 "metadata": {
  "kernelspec": {
   "display_name": "Python 3",
   "language": "python",
   "name": "python3"
  },
  "language_info": {
   "codemirror_mode": {
    "name": "ipython",
    "version": 3
   },
   "file_extension": ".py",
   "mimetype": "text/x-python",
   "name": "python",
   "nbconvert_exporter": "python",
   "pygments_lexer": "ipython3",
   "version": "3.6.7"
  }
 },
 "nbformat": 4,
 "nbformat_minor": 2
}
